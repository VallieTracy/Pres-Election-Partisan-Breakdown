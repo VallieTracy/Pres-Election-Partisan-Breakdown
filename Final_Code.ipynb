{
 "cells": [
  {
   "cell_type": "code",
   "execution_count": 1,
   "metadata": {},
   "outputs": [],
   "source": [
    "import pandas as pd\n",
    "import numpy as np"
   ]
  },
  {
   "cell_type": "code",
   "execution_count": 2,
   "metadata": {},
   "outputs": [],
   "source": [
    "##Final code for USA Counties, exporting to CSV to use in the .py file with Dash"
   ]
  },
  {
   "cell_type": "code",
   "execution_count": 3,
   "metadata": {},
   "outputs": [],
   "source": [
    "countiesDF = pd.read_csv(\"Resources/countypres_2000-2016.csv\")"
   ]
  },
  {
   "cell_type": "code",
   "execution_count": 4,
   "metadata": {},
   "outputs": [
    {
     "name": "stderr",
     "output_type": "stream",
     "text": [
      "/Users/mak/anaconda3/envs/PythonData/lib/python3.6/site-packages/ipykernel_launcher.py:3: SettingWithCopyWarning: \n",
      "A value is trying to be set on a copy of a slice from a DataFrame.\n",
      "Try using .loc[row_indexer,col_indexer] = value instead\n",
      "\n",
      "See the caveats in the documentation: http://pandas.pydata.org/pandas-docs/stable/user_guide/indexing.html#returning-a-view-versus-a-copy\n",
      "  This is separate from the ipykernel package so we can avoid doing imports until\n"
     ]
    },
    {
     "data": {
      "text/plain": [
       "year                int64\n",
       "state              object\n",
       "state_po           object\n",
       "county             object\n",
       "FIPS              float64\n",
       "office             object\n",
       "candidate          object\n",
       "party              object\n",
       "candidatevotes    float64\n",
       "totalvotes          int64\n",
       "version             int64\n",
       "percent           float64\n",
       "dtype: object"
      ]
     },
     "execution_count": 4,
     "metadata": {},
     "output_type": "execute_result"
    }
   ],
   "source": [
    "df2016 = countiesDF[(countiesDF[\"year\"] == 2016)]\n",
    "df2016_reps = df2016[(df2016[\"party\"]) == \"republican\"]\n",
    "df2016_reps[\"percent\"] = df2016_reps[\"candidatevotes\"] / df2016[\"totalvotes\"]\n",
    "\n",
    "df2016_reps.dtypes"
   ]
  },
  {
   "cell_type": "code",
   "execution_count": 5,
   "metadata": {},
   "outputs": [],
   "source": [
    "df2016_reps = df2016_reps.dropna(subset = [\"FIPS\"])\n",
    "df2016_reps[\"FIPS\"] = df2016_reps[\"FIPS\"].astype(np.int64)\n",
    "df2016_reps[\"FIPS\"] = df2016_reps[\"FIPS\"].astype(str)"
   ]
  },
  {
   "cell_type": "code",
   "execution_count": 6,
   "metadata": {},
   "outputs": [
    {
     "data": {
      "text/html": [
       "<div>\n",
       "<style scoped>\n",
       "    .dataframe tbody tr th:only-of-type {\n",
       "        vertical-align: middle;\n",
       "    }\n",
       "\n",
       "    .dataframe tbody tr th {\n",
       "        vertical-align: top;\n",
       "    }\n",
       "\n",
       "    .dataframe thead th {\n",
       "        text-align: right;\n",
       "    }\n",
       "</style>\n",
       "<table border=\"1\" class=\"dataframe\">\n",
       "  <thead>\n",
       "    <tr style=\"text-align: right;\">\n",
       "      <th></th>\n",
       "      <th>year</th>\n",
       "      <th>state</th>\n",
       "      <th>state_po</th>\n",
       "      <th>county</th>\n",
       "      <th>FIPS</th>\n",
       "      <th>office</th>\n",
       "      <th>candidate</th>\n",
       "      <th>party</th>\n",
       "      <th>candidatevotes</th>\n",
       "      <th>totalvotes</th>\n",
       "      <th>version</th>\n",
       "      <th>percent</th>\n",
       "    </tr>\n",
       "  </thead>\n",
       "  <tbody>\n",
       "    <tr>\n",
       "      <th>40518</th>\n",
       "      <td>2016</td>\n",
       "      <td>Alabama</td>\n",
       "      <td>AL</td>\n",
       "      <td>Autauga</td>\n",
       "      <td>01001</td>\n",
       "      <td>President</td>\n",
       "      <td>Donald Trump</td>\n",
       "      <td>republican</td>\n",
       "      <td>18172.0</td>\n",
       "      <td>24973</td>\n",
       "      <td>20191203</td>\n",
       "      <td>0.727666</td>\n",
       "    </tr>\n",
       "    <tr>\n",
       "      <th>40521</th>\n",
       "      <td>2016</td>\n",
       "      <td>Alabama</td>\n",
       "      <td>AL</td>\n",
       "      <td>Baldwin</td>\n",
       "      <td>01003</td>\n",
       "      <td>President</td>\n",
       "      <td>Donald Trump</td>\n",
       "      <td>republican</td>\n",
       "      <td>72883.0</td>\n",
       "      <td>95215</td>\n",
       "      <td>20191203</td>\n",
       "      <td>0.765457</td>\n",
       "    </tr>\n",
       "    <tr>\n",
       "      <th>40524</th>\n",
       "      <td>2016</td>\n",
       "      <td>Alabama</td>\n",
       "      <td>AL</td>\n",
       "      <td>Barbour</td>\n",
       "      <td>01005</td>\n",
       "      <td>President</td>\n",
       "      <td>Donald Trump</td>\n",
       "      <td>republican</td>\n",
       "      <td>5454.0</td>\n",
       "      <td>10469</td>\n",
       "      <td>20191203</td>\n",
       "      <td>0.520967</td>\n",
       "    </tr>\n",
       "    <tr>\n",
       "      <th>40527</th>\n",
       "      <td>2016</td>\n",
       "      <td>Alabama</td>\n",
       "      <td>AL</td>\n",
       "      <td>Bibb</td>\n",
       "      <td>01007</td>\n",
       "      <td>President</td>\n",
       "      <td>Donald Trump</td>\n",
       "      <td>republican</td>\n",
       "      <td>6738.0</td>\n",
       "      <td>8819</td>\n",
       "      <td>20191203</td>\n",
       "      <td>0.764032</td>\n",
       "    </tr>\n",
       "    <tr>\n",
       "      <th>40530</th>\n",
       "      <td>2016</td>\n",
       "      <td>Alabama</td>\n",
       "      <td>AL</td>\n",
       "      <td>Blount</td>\n",
       "      <td>01009</td>\n",
       "      <td>President</td>\n",
       "      <td>Donald Trump</td>\n",
       "      <td>republican</td>\n",
       "      <td>22859.0</td>\n",
       "      <td>25588</td>\n",
       "      <td>20191203</td>\n",
       "      <td>0.893348</td>\n",
       "    </tr>\n",
       "    <tr>\n",
       "      <th>40533</th>\n",
       "      <td>2016</td>\n",
       "      <td>Alabama</td>\n",
       "      <td>AL</td>\n",
       "      <td>Bullock</td>\n",
       "      <td>01011</td>\n",
       "      <td>President</td>\n",
       "      <td>Donald Trump</td>\n",
       "      <td>republican</td>\n",
       "      <td>1140.0</td>\n",
       "      <td>4710</td>\n",
       "      <td>20191203</td>\n",
       "      <td>0.242038</td>\n",
       "    </tr>\n",
       "    <tr>\n",
       "      <th>40536</th>\n",
       "      <td>2016</td>\n",
       "      <td>Alabama</td>\n",
       "      <td>AL</td>\n",
       "      <td>Butler</td>\n",
       "      <td>01013</td>\n",
       "      <td>President</td>\n",
       "      <td>Donald Trump</td>\n",
       "      <td>republican</td>\n",
       "      <td>4901.0</td>\n",
       "      <td>8732</td>\n",
       "      <td>20191203</td>\n",
       "      <td>0.561269</td>\n",
       "    </tr>\n",
       "    <tr>\n",
       "      <th>40539</th>\n",
       "      <td>2016</td>\n",
       "      <td>Alabama</td>\n",
       "      <td>AL</td>\n",
       "      <td>Calhoun</td>\n",
       "      <td>01015</td>\n",
       "      <td>President</td>\n",
       "      <td>Donald Trump</td>\n",
       "      <td>republican</td>\n",
       "      <td>32865.0</td>\n",
       "      <td>47864</td>\n",
       "      <td>20191203</td>\n",
       "      <td>0.686633</td>\n",
       "    </tr>\n",
       "    <tr>\n",
       "      <th>40542</th>\n",
       "      <td>2016</td>\n",
       "      <td>Alabama</td>\n",
       "      <td>AL</td>\n",
       "      <td>Chambers</td>\n",
       "      <td>01017</td>\n",
       "      <td>President</td>\n",
       "      <td>Donald Trump</td>\n",
       "      <td>republican</td>\n",
       "      <td>7843.0</td>\n",
       "      <td>13900</td>\n",
       "      <td>20191203</td>\n",
       "      <td>0.564245</td>\n",
       "    </tr>\n",
       "    <tr>\n",
       "      <th>40545</th>\n",
       "      <td>2016</td>\n",
       "      <td>Alabama</td>\n",
       "      <td>AL</td>\n",
       "      <td>Cherokee</td>\n",
       "      <td>01019</td>\n",
       "      <td>President</td>\n",
       "      <td>Donald Trump</td>\n",
       "      <td>republican</td>\n",
       "      <td>8953.0</td>\n",
       "      <td>10733</td>\n",
       "      <td>20191203</td>\n",
       "      <td>0.834156</td>\n",
       "    </tr>\n",
       "  </tbody>\n",
       "</table>\n",
       "</div>"
      ],
      "text/plain": [
       "       year    state state_po    county   FIPS     office     candidate  \\\n",
       "40518  2016  Alabama       AL   Autauga  01001  President  Donald Trump   \n",
       "40521  2016  Alabama       AL   Baldwin  01003  President  Donald Trump   \n",
       "40524  2016  Alabama       AL   Barbour  01005  President  Donald Trump   \n",
       "40527  2016  Alabama       AL      Bibb  01007  President  Donald Trump   \n",
       "40530  2016  Alabama       AL    Blount  01009  President  Donald Trump   \n",
       "40533  2016  Alabama       AL   Bullock  01011  President  Donald Trump   \n",
       "40536  2016  Alabama       AL    Butler  01013  President  Donald Trump   \n",
       "40539  2016  Alabama       AL   Calhoun  01015  President  Donald Trump   \n",
       "40542  2016  Alabama       AL  Chambers  01017  President  Donald Trump   \n",
       "40545  2016  Alabama       AL  Cherokee  01019  President  Donald Trump   \n",
       "\n",
       "            party  candidatevotes  totalvotes   version   percent  \n",
       "40518  republican         18172.0       24973  20191203  0.727666  \n",
       "40521  republican         72883.0       95215  20191203  0.765457  \n",
       "40524  republican          5454.0       10469  20191203  0.520967  \n",
       "40527  republican          6738.0        8819  20191203  0.764032  \n",
       "40530  republican         22859.0       25588  20191203  0.893348  \n",
       "40533  republican          1140.0        4710  20191203  0.242038  \n",
       "40536  republican          4901.0        8732  20191203  0.561269  \n",
       "40539  republican         32865.0       47864  20191203  0.686633  \n",
       "40542  republican          7843.0       13900  20191203  0.564245  \n",
       "40545  republican          8953.0       10733  20191203  0.834156  "
      ]
     },
     "execution_count": 6,
     "metadata": {},
     "output_type": "execute_result"
    }
   ],
   "source": [
    "i = 0\n",
    "while i < len(df2016_reps.index):\n",
    "\n",
    "    if len(df2016_reps.iloc[i,4])<=4:\n",
    "        df2016_reps.iloc[i,4] = \"0\" + df2016_reps.iloc[i,4]\n",
    "        i+=1\n",
    "    else:\n",
    "        i+=1\n",
    "\n",
    "df2016_reps.head(10)"
   ]
  },
  {
   "cell_type": "code",
   "execution_count": 7,
   "metadata": {},
   "outputs": [],
   "source": [
    "def label_pct(row):\n",
    "    if row[\"percent\"] <= .40:\n",
    "        return 4\n",
    "\n",
    "    if row[\"percent\"] <= .60:\n",
    "        return 6\n",
    "\n",
    "    return 10\n"
   ]
  },
  {
   "cell_type": "code",
   "execution_count": 8,
   "metadata": {},
   "outputs": [],
   "source": [
    "def pop_rank(row):\n",
    "    return pd.qcut(row,5, retbins = True)\n"
   ]
  },
  {
   "cell_type": "code",
   "execution_count": 9,
   "metadata": {},
   "outputs": [],
   "source": [
    "def combined_rank(row):\n",
    "    return row[\"pop_rank\"]*100+row[\"pct_rank\"]"
   ]
  },
  {
   "cell_type": "code",
   "execution_count": 10,
   "metadata": {},
   "outputs": [],
   "source": [
    "df2016_reps[\"pct_rank\"] = df2016_reps.apply (lambda row: label_pct(row), axis=1)\n",
    "df2016_reps[\"pop_rank\"] = pd.qcut(df2016_reps[\"totalvotes\"], q=[0, .25, .5, .75, 1],labels =[1,2,3,4] )\n",
    "df2016_reps[\"combined_rank\"] = df2016_reps.apply (lambda row: combined_rank(row), axis=1)\n",
    "\n",
    "df2016_reps[\"combined_rank\"] = df2016_reps[\"combined_rank\"].astype(str)"
   ]
  },
  {
   "cell_type": "code",
   "execution_count": 11,
   "metadata": {},
   "outputs": [],
   "source": [
    "df2016_reps.to_csv(\"Resources/usa_counties.csv\", index = False)"
   ]
  },
  {
   "cell_type": "code",
   "execution_count": 12,
   "metadata": {},
   "outputs": [],
   "source": [
    "##Final code for MN Precincts, exporting to CSV to use in the .py file with Dash"
   ]
  },
  {
   "cell_type": "code",
   "execution_count": 13,
   "metadata": {},
   "outputs": [],
   "source": [
    "csvpath = \"Resources/2016_precincts_newVersion.csv\"\n",
    "prec_df = pd.read_csv(csvpath, encoding=\"ISO-8859-1\")"
   ]
  },
  {
   "cell_type": "code",
   "execution_count": 14,
   "metadata": {},
   "outputs": [],
   "source": [
    "prec_df = prec_df[['VTDID', 'PCTNAME', 'PCTCODE', 'MCDNAME', 'COUNTYNAME', 'COUNTYCODE',\n",
    "                   'USPRSR', 'USPRSDFL', 'USPRSTOTAL']][:-1]"
   ]
  },
  {
   "cell_type": "code",
   "execution_count": 15,
   "metadata": {},
   "outputs": [],
   "source": [
    "prec_df = prec_df.rename(columns = {'MCDNAME': 'Munic/Unorg Terr Name',\n",
    "                                    'USPRSR': 'Trump', 'USPRSDFL': 'Clinton',\n",
    "                                    'USPRSTOTAL': 'Total Votes'})"
   ]
  },
  {
   "cell_type": "code",
   "execution_count": 16,
   "metadata": {},
   "outputs": [],
   "source": [
    "prec_df['percent'] = prec_df['Trump'] / prec_df['Total Votes']"
   ]
  },
  {
   "cell_type": "code",
   "execution_count": 17,
   "metadata": {},
   "outputs": [],
   "source": [
    "prec_df[\"pct_rank\"] = prec_df.apply (lambda row: label_pct(row), axis=1)\n",
    "prec_df[\"pop_rank\"] = pd.qcut(prec_df[\"Total Votes\"], q=[0, .25, .5, .75, 1],labels =[1,2,3,4] )\n",
    "prec_df[\"combined_rank\"] = prec_df.apply (lambda row: combined_rank(row), axis=1)\n",
    "prec_df[\"combined_rank\"] = prec_df[\"combined_rank\"].astype(str)"
   ]
  },
  {
   "cell_type": "code",
   "execution_count": 18,
   "metadata": {},
   "outputs": [],
   "source": [
    "prec_df.to_csv(\"Resources/mn_precincts.csv\", index = False)"
   ]
  },
  {
   "cell_type": "code",
   "execution_count": null,
   "metadata": {},
   "outputs": [],
   "source": []
  }
 ],
 "metadata": {
  "kernelspec": {
   "display_name": "Python 3",
   "language": "python",
   "name": "python3"
  },
  "language_info": {
   "codemirror_mode": {
    "name": "ipython",
    "version": 3
   },
   "file_extension": ".py",
   "mimetype": "text/x-python",
   "name": "python",
   "nbconvert_exporter": "python",
   "pygments_lexer": "ipython3",
   "version": "3.6.9"
  }
 },
 "nbformat": 4,
 "nbformat_minor": 2
}
