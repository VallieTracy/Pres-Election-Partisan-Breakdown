{
 "cells": [
  {
   "cell_type": "markdown",
   "metadata": {},
   "source": [
    "# Making a Chlorpleth map"
   ]
  },
  {
   "cell_type": "code",
   "execution_count": 4,
   "metadata": {},
   "outputs": [],
   "source": [
    "# import packages\n",
    "import geopandas as gp\n",
    "from geopandas import GeoDataFrame\n",
    "import fiona \n",
    "import descartes\n",
    "from descartes import PolygonPatch\n"
   ]
  },
  {
   "cell_type": "code",
   "execution_count": 5,
   "metadata": {},
   "outputs": [
    {
     "data": {
      "text/html": [
       "<div>\n",
       "<style scoped>\n",
       "    .dataframe tbody tr th:only-of-type {\n",
       "        vertical-align: middle;\n",
       "    }\n",
       "\n",
       "    .dataframe tbody tr th {\n",
       "        vertical-align: top;\n",
       "    }\n",
       "\n",
       "    .dataframe thead th {\n",
       "        text-align: right;\n",
       "    }\n",
       "</style>\n",
       "<table border=\"1\" class=\"dataframe\">\n",
       "  <thead>\n",
       "    <tr style=\"text-align: right;\">\n",
       "      <th></th>\n",
       "      <th>STATE</th>\n",
       "      <th>CWA</th>\n",
       "      <th>COUNTYNAME</th>\n",
       "      <th>FIPS</th>\n",
       "      <th>TIME_ZONE</th>\n",
       "      <th>FE_AREA</th>\n",
       "      <th>LON</th>\n",
       "      <th>LAT</th>\n",
       "      <th>geometry</th>\n",
       "    </tr>\n",
       "  </thead>\n",
       "  <tbody>\n",
       "    <tr>\n",
       "      <th>0</th>\n",
       "      <td>ME</td>\n",
       "      <td>CAR</td>\n",
       "      <td>Washington</td>\n",
       "      <td>23029</td>\n",
       "      <td>E</td>\n",
       "      <td>se</td>\n",
       "      <td>-67.6361</td>\n",
       "      <td>45.0363</td>\n",
       "      <td>MULTIPOLYGON (((-67.93539 44.40382, -67.93643 ...</td>\n",
       "    </tr>\n",
       "    <tr>\n",
       "      <th>1</th>\n",
       "      <td>GA</td>\n",
       "      <td>CHS</td>\n",
       "      <td>McIntosh</td>\n",
       "      <td>13191</td>\n",
       "      <td>E</td>\n",
       "      <td>se</td>\n",
       "      <td>-81.2646</td>\n",
       "      <td>31.5329</td>\n",
       "      <td>MULTIPOLYGON (((-81.46814 31.33980, -81.46747 ...</td>\n",
       "    </tr>\n",
       "    <tr>\n",
       "      <th>2</th>\n",
       "      <td>GA</td>\n",
       "      <td>CHS</td>\n",
       "      <td>Liberty</td>\n",
       "      <td>13179</td>\n",
       "      <td>E</td>\n",
       "      <td>se</td>\n",
       "      <td>-81.2103</td>\n",
       "      <td>31.7093</td>\n",
       "      <td>POLYGON ((-81.30807 31.79454, -81.30546 31.791...</td>\n",
       "    </tr>\n",
       "    <tr>\n",
       "      <th>3</th>\n",
       "      <td>AS</td>\n",
       "      <td>PPG</td>\n",
       "      <td>Swains Island</td>\n",
       "      <td>60040</td>\n",
       "      <td>S</td>\n",
       "      <td>None</td>\n",
       "      <td>-171.0459</td>\n",
       "      <td>-11.0843</td>\n",
       "      <td>POLYGON ((-171.04049 -11.08245, -171.03940 -11...</td>\n",
       "    </tr>\n",
       "    <tr>\n",
       "      <th>4</th>\n",
       "      <td>AS</td>\n",
       "      <td>PPG</td>\n",
       "      <td>Manu'a</td>\n",
       "      <td>60020</td>\n",
       "      <td>S</td>\n",
       "      <td>None</td>\n",
       "      <td>-169.5060</td>\n",
       "      <td>-14.2219</td>\n",
       "      <td>MULTIPOLYGON (((-169.61275 -14.15533, -169.611...</td>\n",
       "    </tr>\n",
       "  </tbody>\n",
       "</table>\n",
       "</div>"
      ],
      "text/plain": [
       "  STATE  CWA     COUNTYNAME   FIPS TIME_ZONE FE_AREA       LON      LAT  \\\n",
       "0    ME  CAR     Washington  23029         E      se  -67.6361  45.0363   \n",
       "1    GA  CHS       McIntosh  13191         E      se  -81.2646  31.5329   \n",
       "2    GA  CHS        Liberty  13179         E      se  -81.2103  31.7093   \n",
       "3    AS  PPG  Swains Island  60040         S    None -171.0459 -11.0843   \n",
       "4    AS  PPG         Manu'a  60020         S    None -169.5060 -14.2219   \n",
       "\n",
       "                                            geometry  \n",
       "0  MULTIPOLYGON (((-67.93539 44.40382, -67.93643 ...  \n",
       "1  MULTIPOLYGON (((-81.46814 31.33980, -81.46747 ...  \n",
       "2  POLYGON ((-81.30807 31.79454, -81.30546 31.791...  \n",
       "3  POLYGON ((-171.04049 -11.08245, -171.03940 -11...  \n",
       "4  MULTIPOLYGON (((-169.61275 -14.15533, -169.611...  "
      ]
     },
     "execution_count": 5,
     "metadata": {},
     "output_type": "execute_result"
    }
   ],
   "source": [
    "# load shape file with geopandas\n",
    "county_shape = gp.read_file(\"Resources/c_03mr20.shp\" )\n",
    "county_shape.head()"
   ]
  },
  {
   "cell_type": "code",
   "execution_count": 6,
   "metadata": {},
   "outputs": [
    {
     "data": {
      "text/plain": [
       "<matplotlib.axes._subplots.AxesSubplot at 0x15181fd5610>"
      ]
     },
     "execution_count": 6,
     "metadata": {},
     "output_type": "execute_result"
    },
    {
     "data": {
      "image/png": "[encoded data removed]",
      "text/plain": [
       "<Figure size 432x288 with 1 Axes>"
      ]
     },
     "metadata": {
      "needs_background": "light"
     },
     "output_type": "display_data"
    }
   ],
   "source": [
    "# plot shape\n",
    "county_shape.plot()"
   ]
  },
  {
   "cell_type": "code",
   "execution_count": null,
   "metadata": {},
   "outputs": [],
   "source": []
  }
 ],
 "metadata": {
  "kernelspec": {
   "display_name": "Python 3",
   "language": "python",
   "name": "python3"
  },
  "language_info": {
   "codemirror_mode": {
    "name": "ipython",
    "version": 3
   },
   "file_extension": ".py",
   "mimetype": "text/x-python",
   "name": "python",
   "nbconvert_exporter": "python",
   "pygments_lexer": "ipython3",
   "version": "3.8.4"
  }
 },
 "nbformat": 4,
 "nbformat_minor": 4
}
