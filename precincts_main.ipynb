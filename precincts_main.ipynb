{
 "cells": [
  {
   "cell_type": "code",
   "execution_count": null,
   "metadata": {},
   "outputs": [],
   "source": [
    "# Import dependencies\n",
    "import pandas as pd\n",
    "import numpy as np\n",
    "import geopandas as gp"
   ]
  },
  {
   "cell_type": "code",
   "execution_count": null,
   "metadata": {},
   "outputs": [],
   "source": [
    "# Set file path\n",
    "csvpath = \"Resources/2016-precinct-president.csv\"\n",
    "\n",
    "# Read csv and preview dataframe\n",
    "prec_df = pd.read_csv(csvpath, encoding=\"ISO-8859-1\")\n",
    "pd.set_option('display.max_columns', None)\n",
    "prec_df.head()"
   ]
  },
  {
   "cell_type": "markdown",
   "metadata": {},
   "source": [
    "# Exploring the data"
   ]
  },
  {
   "cell_type": "code",
   "execution_count": null,
   "metadata": {},
   "outputs": [],
   "source": [
    "# List of Columns\n",
    "prec_df.columns"
   ]
  },
  {
   "cell_type": "code",
   "execution_count": null,
   "metadata": {},
   "outputs": [],
   "source": [
    "# Getting the value counts for all the states\n",
    "prec_df['state'].value_counts()"
   ]
  },
  {
   "cell_type": "markdown",
   "metadata": {},
   "source": [
    "# Minnesota"
   ]
  },
  {
   "cell_type": "code",
   "execution_count": null,
   "metadata": {},
   "outputs": [],
   "source": [
    "# Only interested in Minnesota precincts\n",
    "mn_df = prec_df.loc[prec_df['state'] == 'Minnesota']\n",
    "mn_df.head()"
   ]
  },
  {
   "cell_type": "code",
   "execution_count": null,
   "metadata": {},
   "outputs": [],
   "source": [
    "# Keep only the columns we're interested in\n",
    "# Want to come back and remove more once I get a little deeper into it\n",
    "mn_df = mn_df[['year', 'state', 'state_postal', 'state_fips', 'state_icpsr', 'county_name',\n",
    "               'county_fips', 'county_ansi', 'county_lat', 'county_long', 'jurisdiction',\n",
    "               'precinct', 'candidate_normalized', 'mode', 'votes', 'candidate_fec']]\n",
    "mn_df.head(11)"
   ]
  },
  {
   "cell_type": "code",
   "execution_count": null,
   "metadata": {},
   "outputs": [],
   "source": [
    "# Create a new column for Total Votes and add that to the dataframe\n",
    "\n",
    "# Create the column and give it an initial value of zero\n",
    "mn_df['total_votes'] = 0\n",
    "\n",
    "# Add the new column into the dataframe\n",
    "mn_df = mn_df[['year', 'state', 'state_postal', 'state_fips', 'state_icpsr', 'county_name',\n",
    "               'county_fips', 'county_ansi', 'county_lat', 'county_long', 'jurisdiction',\n",
    "               'precinct', 'candidate_normalized', 'mode', 'votes', 'total_votes', 'candidate_fec']]\n",
    "\n",
    "# Preview\n",
    "mn_df.head()"
   ]
  },
  {
   "cell_type": "code",
   "execution_count": null,
   "metadata": {},
   "outputs": [],
   "source": [
    "# Groupby the precincts\n",
    "mn_groupby = mn_df.groupby(['precinct']).sum()\n",
    "mn_groupby"
   ]
  },
  {
   "cell_type": "code",
   "execution_count": null,
   "metadata": {},
   "outputs": [],
   "source": [
    "# Merge the two dataframes, mn_groupby and mn_df\n",
    "merged_df = mn_df.merge(mn_groupby, on = \"precinct\")\n",
    "\n",
    "# Preview\n",
    "merged_df"
   ]
  },
  {
   "cell_type": "code",
   "execution_count": null,
   "metadata": {},
   "outputs": [],
   "source": [
    "# Pull out the desired columns\n",
    "merged_df = merged_df[['year_x', 'state', 'state_postal', 'county_name', 'county_fips_x', 'county_ansi_x',\n",
    "                       'county_lat_x', 'county_long_x', 'jurisdiction', 'precinct', 'candidate_normalized', \n",
    "                       'votes_x', 'votes_y']]\n",
    "merged_df"
   ]
  },
  {
   "cell_type": "code",
   "execution_count": null,
   "metadata": {},
   "outputs": [],
   "source": [
    "# Rename the columns\n",
    "merged_df = merged_df.rename(columns={'year_x': 'year', 'county_fips_x': 'county_fips',\n",
    "                                      'county_ansi_x': 'county_ansi', 'county_lat_x': 'county_lat',\n",
    "                                      'county_long_x': 'county_long', 'candidate_normalized': 'candidate',\n",
    "                                      'votes_x': 'votes', 'votes_y': 'total_votes'})\n",
    "merged_df.head()"
   ]
  },
  {
   "cell_type": "code",
   "execution_count": null,
   "metadata": {
    "scrolled": true
   },
   "outputs": [],
   "source": [
    "# Add a percent column which will determine how much percent of the precinct's vote each candidate got\n",
    "merged_df['percent'] = (merged_df['votes'] / merged_df['total_votes']) * 100\n",
    "merged_df.head()"
   ]
  },
  {
   "cell_type": "code",
   "execution_count": null,
   "metadata": {},
   "outputs": [],
   "source": [
    "#merged_df[merged_df.county_fips == 27001.0]\n",
    "merged_df[merged_df.precinct == 'BALL BLUFF TWP|15']"
   ]
  },
  {
   "cell_type": "code",
   "execution_count": null,
   "metadata": {},
   "outputs": [],
   "source": [
    "merged_df[merged_df.county_name == 'Aitkin County']"
   ]
  },
  {
   "cell_type": "markdown",
   "metadata": {},
   "source": [
    "# GeoPandas"
   ]
  },
  {
   "cell_type": "code",
   "execution_count": null,
   "metadata": {},
   "outputs": [],
   "source": [
    "import pandas as pd\n",
    "import matplotlib.pyplot as plt\n",
    "import numpy as np\n",
    "import geopandas as gp\n",
    "from geopandas import GeoDataFrame"
   ]
  },
  {
   "cell_type": "code",
   "execution_count": 56,
   "metadata": {},
   "outputs": [
    {
     "output_type": "execute_result",
     "data": {
      "text/plain": "       VTDID         PCTNAME PCTCODE SHORTLABEL         MCDNAME MCDCODE  \\\n0  271730045  Friendship Twp    0045       None  Friendship Twp     035   \n1  270910110      Galena Twp    0110       None      Galena Twp     055   \n2  270930045      Darwin Twp    0045       None      Darwin Twp     040   \n3  271370060     Biwabik Twp    0060       None     Biwabik Twp     060   \n4  270010015  Ball Bluff Twp    0015       None  Ball Bluff Twp     015   \n\n  MCDFIPS   MCDGNIS  CTU_TYPE       COUNTYNAME COUNTYCODE COUNTYFIPS CONGDIST  \\\n0   22832  00664234  township  Yellow Medicine         87        173        7   \n1   23030  00664240  township           Martin         46        091        1   \n2   14860  00663929  township           Meeker         47        093        7   \n3   06166  00663605  township        St. Louis         69        137        8   \n4   03358  00663498  township           Aitkin          1        001        8   \n\n  MNSENDIST MNLEGDIST CTYCOMDIST JUDDIST SWCDIST        SWCDIST_N  WARD  \\\n0        16       16A          3      08    5173  Yellow Medicine  None   \n1        23       23A          5      05    6091           Martin  None   \n2        18       18A          1      08    2093           Meeker  None   \n3         6        6B          4      06    3137  North St. Louis  None   \n4        10       10B          5      09    3001           Aitkin  None   \n\n  HOSPDIST HOSPDIST_N PARKDIST PARKDIST_N  \\\n0     None       None     None       None   \n1     None       None     None       None   \n2     None       None     None       None   \n3     None       None     None       None   \n4     None       None     None       None   \n\n                                            geometry  \n0  POLYGON ((284369.269 4964918.229, 284321.301 4...  \n1  POLYGON ((362977.491 4856419.851, 362974.359 4...  \n2  POLYGON ((391605.300 5000799.731, 391581.799 4...  \n3  MULTIPOLYGON (((544403.320 5260705.800, 544214...  \n4  POLYGON ((485475.521 5207980.031, 485475.766 5...  ",
      "text/html": "<div>\n<style scoped>\n    .dataframe tbody tr th:only-of-type {\n        vertical-align: middle;\n    }\n\n    .dataframe tbody tr th {\n        vertical-align: top;\n    }\n\n    .dataframe thead th {\n        text-align: right;\n    }\n</style>\n<table border=\"1\" class=\"dataframe\">\n  <thead>\n    <tr style=\"text-align: right;\">\n      <th></th>\n      <th>VTDID</th>\n      <th>PCTNAME</th>\n      <th>PCTCODE</th>\n      <th>SHORTLABEL</th>\n      <th>MCDNAME</th>\n      <th>MCDCODE</th>\n      <th>MCDFIPS</th>\n      <th>MCDGNIS</th>\n      <th>CTU_TYPE</th>\n      <th>COUNTYNAME</th>\n      <th>COUNTYCODE</th>\n      <th>COUNTYFIPS</th>\n      <th>CONGDIST</th>\n      <th>MNSENDIST</th>\n      <th>MNLEGDIST</th>\n      <th>CTYCOMDIST</th>\n      <th>JUDDIST</th>\n      <th>SWCDIST</th>\n      <th>SWCDIST_N</th>\n      <th>WARD</th>\n      <th>HOSPDIST</th>\n      <th>HOSPDIST_N</th>\n      <th>PARKDIST</th>\n      <th>PARKDIST_N</th>\n      <th>geometry</th>\n    </tr>\n  </thead>\n  <tbody>\n    <tr>\n      <th>0</th>\n      <td>271730045</td>\n      <td>Friendship Twp</td>\n      <td>0045</td>\n      <td>None</td>\n      <td>Friendship Twp</td>\n      <td>035</td>\n      <td>22832</td>\n      <td>00664234</td>\n      <td>township</td>\n      <td>Yellow Medicine</td>\n      <td>87</td>\n      <td>173</td>\n      <td>7</td>\n      <td>16</td>\n      <td>16A</td>\n      <td>3</td>\n      <td>08</td>\n      <td>5173</td>\n      <td>Yellow Medicine</td>\n      <td>None</td>\n      <td>None</td>\n      <td>None</td>\n      <td>None</td>\n      <td>None</td>\n      <td>POLYGON ((284369.269 4964918.229, 284321.301 4...</td>\n    </tr>\n    <tr>\n      <th>1</th>\n      <td>270910110</td>\n      <td>Galena Twp</td>\n      <td>0110</td>\n      <td>None</td>\n      <td>Galena Twp</td>\n      <td>055</td>\n      <td>23030</td>\n      <td>00664240</td>\n      <td>township</td>\n      <td>Martin</td>\n      <td>46</td>\n      <td>091</td>\n      <td>1</td>\n      <td>23</td>\n      <td>23A</td>\n      <td>5</td>\n      <td>05</td>\n      <td>6091</td>\n      <td>Martin</td>\n      <td>None</td>\n      <td>None</td>\n      <td>None</td>\n      <td>None</td>\n      <td>None</td>\n      <td>POLYGON ((362977.491 4856419.851, 362974.359 4...</td>\n    </tr>\n    <tr>\n      <th>2</th>\n      <td>270930045</td>\n      <td>Darwin Twp</td>\n      <td>0045</td>\n      <td>None</td>\n      <td>Darwin Twp</td>\n      <td>040</td>\n      <td>14860</td>\n      <td>00663929</td>\n      <td>township</td>\n      <td>Meeker</td>\n      <td>47</td>\n      <td>093</td>\n      <td>7</td>\n      <td>18</td>\n      <td>18A</td>\n      <td>1</td>\n      <td>08</td>\n      <td>2093</td>\n      <td>Meeker</td>\n      <td>None</td>\n      <td>None</td>\n      <td>None</td>\n      <td>None</td>\n      <td>None</td>\n      <td>POLYGON ((391605.300 5000799.731, 391581.799 4...</td>\n    </tr>\n    <tr>\n      <th>3</th>\n      <td>271370060</td>\n      <td>Biwabik Twp</td>\n      <td>0060</td>\n      <td>None</td>\n      <td>Biwabik Twp</td>\n      <td>060</td>\n      <td>06166</td>\n      <td>00663605</td>\n      <td>township</td>\n      <td>St. Louis</td>\n      <td>69</td>\n      <td>137</td>\n      <td>8</td>\n      <td>6</td>\n      <td>6B</td>\n      <td>4</td>\n      <td>06</td>\n      <td>3137</td>\n      <td>North St. Louis</td>\n      <td>None</td>\n      <td>None</td>\n      <td>None</td>\n      <td>None</td>\n      <td>None</td>\n      <td>MULTIPOLYGON (((544403.320 5260705.800, 544214...</td>\n    </tr>\n    <tr>\n      <th>4</th>\n      <td>270010015</td>\n      <td>Ball Bluff Twp</td>\n      <td>0015</td>\n      <td>None</td>\n      <td>Ball Bluff Twp</td>\n      <td>015</td>\n      <td>03358</td>\n      <td>00663498</td>\n      <td>township</td>\n      <td>Aitkin</td>\n      <td>1</td>\n      <td>001</td>\n      <td>8</td>\n      <td>10</td>\n      <td>10B</td>\n      <td>5</td>\n      <td>09</td>\n      <td>3001</td>\n      <td>Aitkin</td>\n      <td>None</td>\n      <td>None</td>\n      <td>None</td>\n      <td>None</td>\n      <td>None</td>\n      <td>POLYGON ((485475.521 5207980.031, 485475.766 5...</td>\n    </tr>\n  </tbody>\n</table>\n</div>"
     },
     "metadata": {},
     "execution_count": 56
    }
   ],
   "source": [
    "# load shp file extracted from zipfile\n",
    "prec_shp = gp.read_file(\"Resources/bdry_votingdistricts.shp\" )\n",
    "prec_shp.head()"
   ]
  },
  {
   "cell_type": "code",
   "execution_count": null,
   "metadata": {
    "scrolled": false
   },
   "outputs": [],
   "source": [
    "prec_shp[prec_shp.VTDID == '270010005'].head()"
   ]
  },
  {
   "cell_type": "code",
   "execution_count": null,
   "metadata": {},
   "outputs": [],
   "source": [
    "ball_bluff = prec_shp[prec_shp.PCTNAME == 'Ball Bluff Twp']\n",
    "ball_bluff\n",
    "#'''MCDGNIS (column from prec_shp dataframe) is close to merged_df[county_ansi], but not exact'''"
   ]
  },
  {
   "cell_type": "code",
   "execution_count": null,
   "metadata": {
    "tags": []
   },
   "outputs": [],
   "source": [
    "print(ball_bluff['geometry'])"
   ]
  },
  {
   "cell_type": "code",
   "execution_count": null,
   "metadata": {},
   "outputs": [],
   "source": []
  },
  {
   "cell_type": "code",
   "execution_count": null,
   "metadata": {},
   "outputs": [],
   "source": []
  },
  {
   "cell_type": "code",
   "execution_count": null,
   "metadata": {},
   "outputs": [],
   "source": []
  },
  {
   "cell_type": "code",
   "execution_count": null,
   "metadata": {},
   "outputs": [],
   "source": []
  },
  {
   "cell_type": "code",
   "execution_count": 57,
   "metadata": {},
   "outputs": [
    {
     "output_type": "execute_result",
     "data": {
      "text/plain": "       VTDID        precinct PCTCODE SHORTLABEL         MCDNAME MCDCODE  \\\n0  271730045  Friendship Twp    0045       None  Friendship Twp     035   \n1  270910110      Galena Twp    0110       None      Galena Twp     055   \n2  270930045      Darwin Twp    0045       None      Darwin Twp     040   \n3  271370060     Biwabik Twp    0060       None     Biwabik Twp     060   \n4  270010015  Ball Bluff Twp    0015       None  Ball Bluff Twp     015   \n\n  MCDFIPS   MCDGNIS  CTU_TYPE       COUNTYNAME COUNTYCODE county_fips  \\\n0   22832  00664234  township  Yellow Medicine         87         173   \n1   23030  00664240  township           Martin         46         091   \n2   14860  00663929  township           Meeker         47         093   \n3   06166  00663605  township        St. Louis         69         137   \n4   03358  00663498  township           Aitkin          1         001   \n\n  CONGDIST MNSENDIST MNLEGDIST CTYCOMDIST JUDDIST SWCDIST        SWCDIST_N  \\\n0        7        16       16A          3      08    5173  Yellow Medicine   \n1        1        23       23A          5      05    6091           Martin   \n2        7        18       18A          1      08    2093           Meeker   \n3        8         6        6B          4      06    3137  North St. Louis   \n4        8        10       10B          5      09    3001           Aitkin   \n\n   WARD HOSPDIST HOSPDIST_N PARKDIST PARKDIST_N  \\\n0  None     None       None     None       None   \n1  None     None       None     None       None   \n2  None     None       None     None       None   \n3  None     None       None     None       None   \n4  None     None       None     None       None   \n\n                                            geometry  \n0  POLYGON ((284369.269 4964918.229, 284321.301 4...  \n1  POLYGON ((362977.491 4856419.851, 362974.359 4...  \n2  POLYGON ((391605.300 5000799.731, 391581.799 4...  \n3  MULTIPOLYGON (((544403.320 5260705.800, 544214...  \n4  POLYGON ((485475.521 5207980.031, 485475.766 5...  ",
      "text/html": "<div>\n<style scoped>\n    .dataframe tbody tr th:only-of-type {\n        vertical-align: middle;\n    }\n\n    .dataframe tbody tr th {\n        vertical-align: top;\n    }\n\n    .dataframe thead th {\n        text-align: right;\n    }\n</style>\n<table border=\"1\" class=\"dataframe\">\n  <thead>\n    <tr style=\"text-align: right;\">\n      <th></th>\n      <th>VTDID</th>\n      <th>precinct</th>\n      <th>PCTCODE</th>\n      <th>SHORTLABEL</th>\n      <th>MCDNAME</th>\n      <th>MCDCODE</th>\n      <th>MCDFIPS</th>\n      <th>MCDGNIS</th>\n      <th>CTU_TYPE</th>\n      <th>COUNTYNAME</th>\n      <th>COUNTYCODE</th>\n      <th>county_fips</th>\n      <th>CONGDIST</th>\n      <th>MNSENDIST</th>\n      <th>MNLEGDIST</th>\n      <th>CTYCOMDIST</th>\n      <th>JUDDIST</th>\n      <th>SWCDIST</th>\n      <th>SWCDIST_N</th>\n      <th>WARD</th>\n      <th>HOSPDIST</th>\n      <th>HOSPDIST_N</th>\n      <th>PARKDIST</th>\n      <th>PARKDIST_N</th>\n      <th>geometry</th>\n    </tr>\n  </thead>\n  <tbody>\n    <tr>\n      <th>0</th>\n      <td>271730045</td>\n      <td>Friendship Twp</td>\n      <td>0045</td>\n      <td>None</td>\n      <td>Friendship Twp</td>\n      <td>035</td>\n      <td>22832</td>\n      <td>00664234</td>\n      <td>township</td>\n      <td>Yellow Medicine</td>\n      <td>87</td>\n      <td>173</td>\n      <td>7</td>\n      <td>16</td>\n      <td>16A</td>\n      <td>3</td>\n      <td>08</td>\n      <td>5173</td>\n      <td>Yellow Medicine</td>\n      <td>None</td>\n      <td>None</td>\n      <td>None</td>\n      <td>None</td>\n      <td>None</td>\n      <td>POLYGON ((284369.269 4964918.229, 284321.301 4...</td>\n    </tr>\n    <tr>\n      <th>1</th>\n      <td>270910110</td>\n      <td>Galena Twp</td>\n      <td>0110</td>\n      <td>None</td>\n      <td>Galena Twp</td>\n      <td>055</td>\n      <td>23030</td>\n      <td>00664240</td>\n      <td>township</td>\n      <td>Martin</td>\n      <td>46</td>\n      <td>091</td>\n      <td>1</td>\n      <td>23</td>\n      <td>23A</td>\n      <td>5</td>\n      <td>05</td>\n      <td>6091</td>\n      <td>Martin</td>\n      <td>None</td>\n      <td>None</td>\n      <td>None</td>\n      <td>None</td>\n      <td>None</td>\n      <td>POLYGON ((362977.491 4856419.851, 362974.359 4...</td>\n    </tr>\n    <tr>\n      <th>2</th>\n      <td>270930045</td>\n      <td>Darwin Twp</td>\n      <td>0045</td>\n      <td>None</td>\n      <td>Darwin Twp</td>\n      <td>040</td>\n      <td>14860</td>\n      <td>00663929</td>\n      <td>township</td>\n      <td>Meeker</td>\n      <td>47</td>\n      <td>093</td>\n      <td>7</td>\n      <td>18</td>\n      <td>18A</td>\n      <td>1</td>\n      <td>08</td>\n      <td>2093</td>\n      <td>Meeker</td>\n      <td>None</td>\n      <td>None</td>\n      <td>None</td>\n      <td>None</td>\n      <td>None</td>\n      <td>POLYGON ((391605.300 5000799.731, 391581.799 4...</td>\n    </tr>\n    <tr>\n      <th>3</th>\n      <td>271370060</td>\n      <td>Biwabik Twp</td>\n      <td>0060</td>\n      <td>None</td>\n      <td>Biwabik Twp</td>\n      <td>060</td>\n      <td>06166</td>\n      <td>00663605</td>\n      <td>township</td>\n      <td>St. Louis</td>\n      <td>69</td>\n      <td>137</td>\n      <td>8</td>\n      <td>6</td>\n      <td>6B</td>\n      <td>4</td>\n      <td>06</td>\n      <td>3137</td>\n      <td>North St. Louis</td>\n      <td>None</td>\n      <td>None</td>\n      <td>None</td>\n      <td>None</td>\n      <td>None</td>\n      <td>MULTIPOLYGON (((544403.320 5260705.800, 544214...</td>\n    </tr>\n    <tr>\n      <th>4</th>\n      <td>270010015</td>\n      <td>Ball Bluff Twp</td>\n      <td>0015</td>\n      <td>None</td>\n      <td>Ball Bluff Twp</td>\n      <td>015</td>\n      <td>03358</td>\n      <td>00663498</td>\n      <td>township</td>\n      <td>Aitkin</td>\n      <td>1</td>\n      <td>001</td>\n      <td>8</td>\n      <td>10</td>\n      <td>10B</td>\n      <td>5</td>\n      <td>09</td>\n      <td>3001</td>\n      <td>Aitkin</td>\n      <td>None</td>\n      <td>None</td>\n      <td>None</td>\n      <td>None</td>\n      <td>None</td>\n      <td>POLYGON ((485475.521 5207980.031, 485475.766 5...</td>\n    </tr>\n  </tbody>\n</table>\n</div>"
     },
     "metadata": {},
     "execution_count": 57
    }
   ],
   "source": [
    "# Rename the columns that I'm going to keep\n",
    "prec_shp = prec_shp.rename(columns = {'PCTNAME': 'precinct',\n",
    "                                      'COUNTYFIPS': 'county_fips',\n",
    "                                      'VTIDID':'VTIDID'})\n",
    "prec_shp.head()"
   ]
  },
  {
   "cell_type": "code",
   "execution_count": null,
   "metadata": {},
   "outputs": [],
   "source": [
    "# Need to merge merged_df and prec_shp dataframes\n"
   ]
  },
  {
   "cell_type": "code",
   "execution_count": null,
   "metadata": {},
   "outputs": [],
   "source": []
  },
  {
   "cell_type": "code",
   "execution_count": null,
   "metadata": {},
   "outputs": [],
   "source": []
  },
  {
   "cell_type": "code",
   "execution_count": null,
   "metadata": {},
   "outputs": [],
   "source": []
  },
  {
   "cell_type": "code",
   "execution_count": null,
   "metadata": {},
   "outputs": [],
   "source": []
  },
  {
   "cell_type": "code",
   "execution_count": null,
   "metadata": {},
   "outputs": [],
   "source": []
  },
  {
   "cell_type": "code",
   "execution_count": 58,
   "metadata": {},
   "outputs": [
    {
     "output_type": "execute_result",
     "data": {
      "text/plain": "       VTDID        precinct PCTCODE SHORTLABEL         MCDNAME MCDCODE  \\\n0  271730045  Friendship Twp    0045       None  Friendship Twp     035   \n1  270910110      Galena Twp    0110       None      Galena Twp     055   \n2  270930045      Darwin Twp    0045       None      Darwin Twp     040   \n3  271370060     Biwabik Twp    0060       None     Biwabik Twp     060   \n4  270010015  Ball Bluff Twp    0015       None  Ball Bluff Twp     015   \n\n  MCDFIPS   MCDGNIS  CTU_TYPE       COUNTYNAME COUNTYCODE county_fips  \\\n0   22832  00664234  township  Yellow Medicine         87         173   \n1   23030  00664240  township           Martin         46         091   \n2   14860  00663929  township           Meeker         47         093   \n3   06166  00663605  township        St. Louis         69         137   \n4   03358  00663498  township           Aitkin          1         001   \n\n  CONGDIST MNSENDIST MNLEGDIST CTYCOMDIST JUDDIST SWCDIST        SWCDIST_N  \\\n0        7        16       16A          3      08    5173  Yellow Medicine   \n1        1        23       23A          5      05    6091           Martin   \n2        7        18       18A          1      08    2093           Meeker   \n3        8         6        6B          4      06    3137  North St. Louis   \n4        8        10       10B          5      09    3001           Aitkin   \n\n   WARD HOSPDIST HOSPDIST_N PARKDIST PARKDIST_N  \\\n0  None     None       None     None       None   \n1  None     None       None     None       None   \n2  None     None       None     None       None   \n3  None     None       None     None       None   \n4  None     None       None     None       None   \n\n                                            geometry  \n0  POLYGON ((284369.269 4964918.229, 284321.301 4...  \n1  POLYGON ((362977.491 4856419.851, 362974.359 4...  \n2  POLYGON ((391605.300 5000799.731, 391581.799 4...  \n3  MULTIPOLYGON (((544403.320 5260705.800, 544214...  \n4  POLYGON ((485475.521 5207980.031, 485475.766 5...  ",
      "text/html": "<div>\n<style scoped>\n    .dataframe tbody tr th:only-of-type {\n        vertical-align: middle;\n    }\n\n    .dataframe tbody tr th {\n        vertical-align: top;\n    }\n\n    .dataframe thead th {\n        text-align: right;\n    }\n</style>\n<table border=\"1\" class=\"dataframe\">\n  <thead>\n    <tr style=\"text-align: right;\">\n      <th></th>\n      <th>VTDID</th>\n      <th>precinct</th>\n      <th>PCTCODE</th>\n      <th>SHORTLABEL</th>\n      <th>MCDNAME</th>\n      <th>MCDCODE</th>\n      <th>MCDFIPS</th>\n      <th>MCDGNIS</th>\n      <th>CTU_TYPE</th>\n      <th>COUNTYNAME</th>\n      <th>COUNTYCODE</th>\n      <th>county_fips</th>\n      <th>CONGDIST</th>\n      <th>MNSENDIST</th>\n      <th>MNLEGDIST</th>\n      <th>CTYCOMDIST</th>\n      <th>JUDDIST</th>\n      <th>SWCDIST</th>\n      <th>SWCDIST_N</th>\n      <th>WARD</th>\n      <th>HOSPDIST</th>\n      <th>HOSPDIST_N</th>\n      <th>PARKDIST</th>\n      <th>PARKDIST_N</th>\n      <th>geometry</th>\n    </tr>\n  </thead>\n  <tbody>\n    <tr>\n      <th>0</th>\n      <td>271730045</td>\n      <td>Friendship Twp</td>\n      <td>0045</td>\n      <td>None</td>\n      <td>Friendship Twp</td>\n      <td>035</td>\n      <td>22832</td>\n      <td>00664234</td>\n      <td>township</td>\n      <td>Yellow Medicine</td>\n      <td>87</td>\n      <td>173</td>\n      <td>7</td>\n      <td>16</td>\n      <td>16A</td>\n      <td>3</td>\n      <td>08</td>\n      <td>5173</td>\n      <td>Yellow Medicine</td>\n      <td>None</td>\n      <td>None</td>\n      <td>None</td>\n      <td>None</td>\n      <td>None</td>\n      <td>POLYGON ((284369.269 4964918.229, 284321.301 4...</td>\n    </tr>\n    <tr>\n      <th>1</th>\n      <td>270910110</td>\n      <td>Galena Twp</td>\n      <td>0110</td>\n      <td>None</td>\n      <td>Galena Twp</td>\n      <td>055</td>\n      <td>23030</td>\n      <td>00664240</td>\n      <td>township</td>\n      <td>Martin</td>\n      <td>46</td>\n      <td>091</td>\n      <td>1</td>\n      <td>23</td>\n      <td>23A</td>\n      <td>5</td>\n      <td>05</td>\n      <td>6091</td>\n      <td>Martin</td>\n      <td>None</td>\n      <td>None</td>\n      <td>None</td>\n      <td>None</td>\n      <td>None</td>\n      <td>POLYGON ((362977.491 4856419.851, 362974.359 4...</td>\n    </tr>\n    <tr>\n      <th>2</th>\n      <td>270930045</td>\n      <td>Darwin Twp</td>\n      <td>0045</td>\n      <td>None</td>\n      <td>Darwin Twp</td>\n      <td>040</td>\n      <td>14860</td>\n      <td>00663929</td>\n      <td>township</td>\n      <td>Meeker</td>\n      <td>47</td>\n      <td>093</td>\n      <td>7</td>\n      <td>18</td>\n      <td>18A</td>\n      <td>1</td>\n      <td>08</td>\n      <td>2093</td>\n      <td>Meeker</td>\n      <td>None</td>\n      <td>None</td>\n      <td>None</td>\n      <td>None</td>\n      <td>None</td>\n      <td>POLYGON ((391605.300 5000799.731, 391581.799 4...</td>\n    </tr>\n    <tr>\n      <th>3</th>\n      <td>271370060</td>\n      <td>Biwabik Twp</td>\n      <td>0060</td>\n      <td>None</td>\n      <td>Biwabik Twp</td>\n      <td>060</td>\n      <td>06166</td>\n      <td>00663605</td>\n      <td>township</td>\n      <td>St. Louis</td>\n      <td>69</td>\n      <td>137</td>\n      <td>8</td>\n      <td>6</td>\n      <td>6B</td>\n      <td>4</td>\n      <td>06</td>\n      <td>3137</td>\n      <td>North St. Louis</td>\n      <td>None</td>\n      <td>None</td>\n      <td>None</td>\n      <td>None</td>\n      <td>None</td>\n      <td>MULTIPOLYGON (((544403.320 5260705.800, 544214...</td>\n    </tr>\n    <tr>\n      <th>4</th>\n      <td>270010015</td>\n      <td>Ball Bluff Twp</td>\n      <td>0015</td>\n      <td>None</td>\n      <td>Ball Bluff Twp</td>\n      <td>015</td>\n      <td>03358</td>\n      <td>00663498</td>\n      <td>township</td>\n      <td>Aitkin</td>\n      <td>1</td>\n      <td>001</td>\n      <td>8</td>\n      <td>10</td>\n      <td>10B</td>\n      <td>5</td>\n      <td>09</td>\n      <td>3001</td>\n      <td>Aitkin</td>\n      <td>None</td>\n      <td>None</td>\n      <td>None</td>\n      <td>None</td>\n      <td>None</td>\n      <td>POLYGON ((485475.521 5207980.031, 485475.766 5...</td>\n    </tr>\n  </tbody>\n</table>\n</div>"
     },
     "metadata": {},
     "execution_count": 58
    }
   ],
   "source": [
    "# Rename the columns that I'm going to keep\n",
    "prec_shp = prec_shp.rename(columns = {'PCTNAME': 'precinct',\n",
    "                                      'COUNTYFIPS': 'county_fips',\n",
    "                                      'VTDID':'VTDID'})\n",
    "prec_shp.head()"
   ]
  },
  {
   "cell_type": "code",
   "execution_count": 59,
   "metadata": {},
   "outputs": [
    {
     "output_type": "execute_result",
     "data": {
      "text/plain": "          VTDID          precinct county_fips  \\\n0     271730045    Friendship Twp         173   \n1     270910110        Galena Twp         091   \n2     270930045        Darwin Twp         093   \n3     271370060       Biwabik Twp         137   \n4     270010015    Ball Bluff Twp         001   \n...         ...               ...         ...   \n4105  270950015      Borgholm Twp         095   \n4106  270530505      Corcoran P-2         053   \n4107  271710005   Albertville P-1         171   \n4108  271710127    Monticello P-2         171   \n4109  271410120  Big Lake Twp P-2         141   \n\n                                               geometry  \n0     POLYGON ((284369.269 4964918.229, 284321.301 4...  \n1     POLYGON ((362977.491 4856419.851, 362974.359 4...  \n2     POLYGON ((391605.300 5000799.731, 391581.799 4...  \n3     MULTIPOLYGON (((544403.320 5260705.800, 544214...  \n4     POLYGON ((485475.521 5207980.031, 485475.766 5...  \n...                                                 ...  \n4105  MULTIPOLYGON (((450879.660 5068471.679, 451005...  \n4106  POLYGON ((455732.119 5000074.516, 457351.820 5...  \n4107  POLYGON ((447828.738 5007699.654, 447826.627 5...  \n4108  POLYGON ((439564.488 5015565.645, 439569.764 5...  \n4109  MULTIPOLYGON (((447091.451 5019270.882, 447094...  \n\n[4110 rows x 4 columns]",
      "text/html": "<div>\n<style scoped>\n    .dataframe tbody tr th:only-of-type {\n        vertical-align: middle;\n    }\n\n    .dataframe tbody tr th {\n        vertical-align: top;\n    }\n\n    .dataframe thead th {\n        text-align: right;\n    }\n</style>\n<table border=\"1\" class=\"dataframe\">\n  <thead>\n    <tr style=\"text-align: right;\">\n      <th></th>\n      <th>VTDID</th>\n      <th>precinct</th>\n      <th>county_fips</th>\n      <th>geometry</th>\n    </tr>\n  </thead>\n  <tbody>\n    <tr>\n      <th>0</th>\n      <td>271730045</td>\n      <td>Friendship Twp</td>\n      <td>173</td>\n      <td>POLYGON ((284369.269 4964918.229, 284321.301 4...</td>\n    </tr>\n    <tr>\n      <th>1</th>\n      <td>270910110</td>\n      <td>Galena Twp</td>\n      <td>091</td>\n      <td>POLYGON ((362977.491 4856419.851, 362974.359 4...</td>\n    </tr>\n    <tr>\n      <th>2</th>\n      <td>270930045</td>\n      <td>Darwin Twp</td>\n      <td>093</td>\n      <td>POLYGON ((391605.300 5000799.731, 391581.799 4...</td>\n    </tr>\n    <tr>\n      <th>3</th>\n      <td>271370060</td>\n      <td>Biwabik Twp</td>\n      <td>137</td>\n      <td>MULTIPOLYGON (((544403.320 5260705.800, 544214...</td>\n    </tr>\n    <tr>\n      <th>4</th>\n      <td>270010015</td>\n      <td>Ball Bluff Twp</td>\n      <td>001</td>\n      <td>POLYGON ((485475.521 5207980.031, 485475.766 5...</td>\n    </tr>\n    <tr>\n      <th>...</th>\n      <td>...</td>\n      <td>...</td>\n      <td>...</td>\n      <td>...</td>\n    </tr>\n    <tr>\n      <th>4105</th>\n      <td>270950015</td>\n      <td>Borgholm Twp</td>\n      <td>095</td>\n      <td>MULTIPOLYGON (((450879.660 5068471.679, 451005...</td>\n    </tr>\n    <tr>\n      <th>4106</th>\n      <td>270530505</td>\n      <td>Corcoran P-2</td>\n      <td>053</td>\n      <td>POLYGON ((455732.119 5000074.516, 457351.820 5...</td>\n    </tr>\n    <tr>\n      <th>4107</th>\n      <td>271710005</td>\n      <td>Albertville P-1</td>\n      <td>171</td>\n      <td>POLYGON ((447828.738 5007699.654, 447826.627 5...</td>\n    </tr>\n    <tr>\n      <th>4108</th>\n      <td>271710127</td>\n      <td>Monticello P-2</td>\n      <td>171</td>\n      <td>POLYGON ((439564.488 5015565.645, 439569.764 5...</td>\n    </tr>\n    <tr>\n      <th>4109</th>\n      <td>271410120</td>\n      <td>Big Lake Twp P-2</td>\n      <td>141</td>\n      <td>MULTIPOLYGON (((447091.451 5019270.882, 447094...</td>\n    </tr>\n  </tbody>\n</table>\n<p>4110 rows × 4 columns</p>\n</div>"
     },
     "metadata": {},
     "execution_count": 59
    }
   ],
   "source": [
    "prec_shp = prec_shp[['VTDID','precinct', 'county_fips', 'geometry']]\n",
    "prec_shp"
   ]
  },
  {
   "cell_type": "code",
   "execution_count": 40,
   "metadata": {},
   "outputs": [
    {
     "output_type": "execute_result",
     "data": {
      "text/plain": "Empty GeoDataFrame\nColumns: [precinct, county_fips, geometry]\nIndex: []",
      "text/html": "<div>\n<style scoped>\n    .dataframe tbody tr th:only-of-type {\n        vertical-align: middle;\n    }\n\n    .dataframe tbody tr th {\n        vertical-align: top;\n    }\n\n    .dataframe thead th {\n        text-align: right;\n    }\n</style>\n<table border=\"1\" class=\"dataframe\">\n  <thead>\n    <tr style=\"text-align: right;\">\n      <th></th>\n      <th>precinct</th>\n      <th>county_fips</th>\n      <th>geometry</th>\n    </tr>\n  </thead>\n  <tbody>\n  </tbody>\n</table>\n</div>"
     },
     "metadata": {},
     "execution_count": 40
    }
   ],
   "source": [
    "prec_shp[prec_shp.county_fips == '001' ]"
   ]
  },
  {
   "cell_type": "code",
   "execution_count": null,
   "metadata": {},
   "outputs": [],
   "source": [
    "# prec_shp['county_fips'] = '27' + prec_shp['county_fips']"
   ]
  },
  {
   "cell_type": "code",
   "execution_count": 60,
   "metadata": {},
   "outputs": [
    {
     "output_type": "execute_result",
     "data": {
      "text/plain": "       VTDID        precinct  county_fips  \\\n0  271730045  Friendship Twp        173.0   \n\n                                            geometry  \n0  POLYGON ((284369.269 4964918.229, 284321.301 4...  ",
      "text/html": "<div>\n<style scoped>\n    .dataframe tbody tr th:only-of-type {\n        vertical-align: middle;\n    }\n\n    .dataframe tbody tr th {\n        vertical-align: top;\n    }\n\n    .dataframe thead th {\n        text-align: right;\n    }\n</style>\n<table border=\"1\" class=\"dataframe\">\n  <thead>\n    <tr style=\"text-align: right;\">\n      <th></th>\n      <th>VTDID</th>\n      <th>precinct</th>\n      <th>county_fips</th>\n      <th>geometry</th>\n    </tr>\n  </thead>\n  <tbody>\n    <tr>\n      <th>0</th>\n      <td>271730045</td>\n      <td>Friendship Twp</td>\n      <td>173.0</td>\n      <td>POLYGON ((284369.269 4964918.229, 284321.301 4...</td>\n    </tr>\n  </tbody>\n</table>\n</div>"
     },
     "metadata": {},
     "execution_count": 60
    }
   ],
   "source": [
    "prec_shp['county_fips'] = prec_shp['county_fips'].astype(float)\n",
    "prec_shp.head(1)"
   ]
  },
  {
   "cell_type": "code",
   "execution_count": 45,
   "metadata": {},
   "outputs": [
    {
     "output_type": "execute_result",
     "data": {
      "text/plain": "Empty GeoDataFrame\nColumns: [precinct_x, county_fips, geometry, year, state, state_postal, county_name, county_ansi, county_lat, county_long, jurisdiction, precinct_y, candidate, votes, total_votes, percent]\nIndex: []",
      "text/html": "<div>\n<style scoped>\n    .dataframe tbody tr th:only-of-type {\n        vertical-align: middle;\n    }\n\n    .dataframe tbody tr th {\n        vertical-align: top;\n    }\n\n    .dataframe thead th {\n        text-align: right;\n    }\n</style>\n<table border=\"1\" class=\"dataframe\">\n  <thead>\n    <tr style=\"text-align: right;\">\n      <th></th>\n      <th>precinct_x</th>\n      <th>county_fips</th>\n      <th>geometry</th>\n      <th>year</th>\n      <th>state</th>\n      <th>state_postal</th>\n      <th>county_name</th>\n      <th>county_ansi</th>\n      <th>county_lat</th>\n      <th>county_long</th>\n      <th>jurisdiction</th>\n      <th>precinct_y</th>\n      <th>candidate</th>\n      <th>votes</th>\n      <th>total_votes</th>\n      <th>percent</th>\n    </tr>\n  </thead>\n  <tbody>\n  </tbody>\n</table>\n</div>"
     },
     "metadata": {},
     "execution_count": 45
    }
   ],
   "source": [
    "shp_merge = prec_shp.merge(merged_df, on='county_fips')\n",
    "shp_merge"
   ]
  },
  {
   "cell_type": "code",
   "execution_count": 25,
   "metadata": {},
   "outputs": [
    {
     "output_type": "execute_result",
     "data": {
      "text/plain": "Empty GeoDataFrame\nColumns: [precinct_x, county_fips, geometry, year, state, state_postal, county_name, county_ansi, county_lat, county_long, jurisdiction, precinct_y, candidate, votes, total_votes, percent]\nIndex: []",
      "text/html": "<div>\n<style scoped>\n    .dataframe tbody tr th:only-of-type {\n        vertical-align: middle;\n    }\n\n    .dataframe tbody tr th {\n        vertical-align: top;\n    }\n\n    .dataframe thead th {\n        text-align: right;\n    }\n</style>\n<table border=\"1\" class=\"dataframe\">\n  <thead>\n    <tr style=\"text-align: right;\">\n      <th></th>\n      <th>precinct_x</th>\n      <th>county_fips</th>\n      <th>geometry</th>\n      <th>year</th>\n      <th>state</th>\n      <th>state_postal</th>\n      <th>county_name</th>\n      <th>county_ansi</th>\n      <th>county_lat</th>\n      <th>county_long</th>\n      <th>jurisdiction</th>\n      <th>precinct_y</th>\n      <th>candidate</th>\n      <th>votes</th>\n      <th>total_votes</th>\n      <th>percent</th>\n    </tr>\n  </thead>\n  <tbody>\n  </tbody>\n</table>\n</div>"
     },
     "metadata": {},
     "execution_count": 25
    }
   ],
   "source": [
    "shp_merge[shp_merge.county_fips == 27077.0]\n"
   ]
  },
  {
   "cell_type": "code",
   "execution_count": null,
   "metadata": {},
   "outputs": [],
   "source": []
  },
  {
   "source": [
    "# Comapring merged_df and prec_shp\n"
   ],
   "cell_type": "markdown",
   "metadata": {}
  },
  {
   "source": [
    "merged_df"
   ],
   "cell_type": "code",
   "metadata": {},
   "execution_count": null,
   "outputs": []
  },
  {
   "cell_type": "code",
   "execution_count": null,
   "metadata": {},
   "outputs": [],
   "source": []
  },
  {
   "cell_type": "code",
   "execution_count": 61,
   "metadata": {},
   "outputs": [
    {
     "output_type": "execute_result",
     "data": {
      "text/plain": "         VTDID         PCTNAME  PCTCODE         MCDNAME COUNTYNAME  \\\n0  270010005.0          Aitkin      5.0          Aitkin     Aitkin   \n1  270010010.0      Aitkin Twp     10.0      Aitkin Twp     Aitkin   \n2  270010015.0  Ball Bluff Twp     15.0  Ball Bluff Twp     Aitkin   \n3  270010020.0      Balsam Twp     20.0      Balsam Twp     Aitkin   \n4  270010025.0      Beaver Twp     25.0      Beaver Twp     Aitkin   \n\n   COUNTYCODE  CONGDIST  MNSENDIST MNLEGDIST  CTYCOMDIST  JUDDIST  SWCDIST  \\\n0         1.0       8.0       10.0       10B         1.0      9.0   3001.0   \n1         1.0       8.0       10.0       10B         1.0      9.0   3001.0   \n2         1.0       8.0       10.0       10B         5.0      9.0   3001.0   \n3         1.0       8.0       10.0       10B         5.0      9.0   3001.0   \n4         1.0       8.0       10.0       10B         3.0      9.0   3001.0   \n\n  WARD  HOSPDIST  PARKDIST           TABSYSTEM        TABMODEL MAILBALLOT  \\\n0  NaN       NaN       NaN  Precinct Tabulator  ES&S Model 100         NO   \n1  NaN       NaN       NaN  Precinct Tabulator  ES&S Model 100         NO   \n2  NaN       NaN       NaN  Precinct Tabulator  ES&S Model 100         NO   \n3  NaN       NaN       NaN       Central Count  ES&S Model 100        YES   \n4  NaN       NaN       NaN       Central Count  ES&S Model 100        YES   \n\n   REG7AM  EDR  SIGNATURES  AB_MB  FEDONLYAB  PRESONLYAB  TOTVOTING  USPRSR  \\\n0    1141  110         758    242          0           0       1000     552   \n1     588   44         437    113          0           0        550     356   \n2     179   18         145     19          0           0        164      96   \n3      22    0           0     19          0           0         19       9   \n4      42    0           0     37          0           0         37      16   \n\n   USPRSDFL  USPRSCP  USPRSLMN  USPRSSWP  USPRSGP  USPRSADP  USPRSIP  \\\n0       358        3         7         1        2         0       21   \n1       154        1         2         0        5         0        7   \n2        57        0         1         0        1         0        2   \n3         8        0         0         0        0         0        0   \n4        19        0         2         0        0         0        0   \n\n   USPRSLIB  USPRSWI  USPRSTOTAL  USREPR  USREPDFL  USREPWI  USREPTOTAL  \\\n0        36        6         986     491       470        0         961   \n1        18        4         547     332       206        0         538   \n2         6        1         164      80        82        0         162   \n3         0        1          18       9        10        0          19   \n4         0        0          37      11        25        0          36   \n\n   MNSENR  MNSENDFL  MNSENWI  MNSENTOTAL  MNLEGR  MNLEGDFL  MNLEGWI  \\\n0     574       368        1         943     561       411        0   \n1     381       150        0         531     370       173        0   \n2      83        77        0         160      79        79        0   \n3      10         9        0          19       8        11        0   \n4      13        20        0          33      11        23        0   \n\n   MNLEGTOTAL  MNCA1YES  MNCA1NO  MNCA1EST  MNCA1TOTAL  \n0         972       731      224        45        1000  \n1         543       438       95        17         550  \n2         158       131       32         1         164  \n3          19        15        2         2          19  \n4          34        31        6         0          37  ",
      "text/html": "<div>\n<style scoped>\n    .dataframe tbody tr th:only-of-type {\n        vertical-align: middle;\n    }\n\n    .dataframe tbody tr th {\n        vertical-align: top;\n    }\n\n    .dataframe thead th {\n        text-align: right;\n    }\n</style>\n<table border=\"1\" class=\"dataframe\">\n  <thead>\n    <tr style=\"text-align: right;\">\n      <th></th>\n      <th>VTDID</th>\n      <th>PCTNAME</th>\n      <th>PCTCODE</th>\n      <th>MCDNAME</th>\n      <th>COUNTYNAME</th>\n      <th>COUNTYCODE</th>\n      <th>CONGDIST</th>\n      <th>MNSENDIST</th>\n      <th>MNLEGDIST</th>\n      <th>CTYCOMDIST</th>\n      <th>JUDDIST</th>\n      <th>SWCDIST</th>\n      <th>WARD</th>\n      <th>HOSPDIST</th>\n      <th>PARKDIST</th>\n      <th>TABSYSTEM</th>\n      <th>TABMODEL</th>\n      <th>MAILBALLOT</th>\n      <th>REG7AM</th>\n      <th>EDR</th>\n      <th>SIGNATURES</th>\n      <th>AB_MB</th>\n      <th>FEDONLYAB</th>\n      <th>PRESONLYAB</th>\n      <th>TOTVOTING</th>\n      <th>USPRSR</th>\n      <th>USPRSDFL</th>\n      <th>USPRSCP</th>\n      <th>USPRSLMN</th>\n      <th>USPRSSWP</th>\n      <th>USPRSGP</th>\n      <th>USPRSADP</th>\n      <th>USPRSIP</th>\n      <th>USPRSLIB</th>\n      <th>USPRSWI</th>\n      <th>USPRSTOTAL</th>\n      <th>USREPR</th>\n      <th>USREPDFL</th>\n      <th>USREPWI</th>\n      <th>USREPTOTAL</th>\n      <th>MNSENR</th>\n      <th>MNSENDFL</th>\n      <th>MNSENWI</th>\n      <th>MNSENTOTAL</th>\n      <th>MNLEGR</th>\n      <th>MNLEGDFL</th>\n      <th>MNLEGWI</th>\n      <th>MNLEGTOTAL</th>\n      <th>MNCA1YES</th>\n      <th>MNCA1NO</th>\n      <th>MNCA1EST</th>\n      <th>MNCA1TOTAL</th>\n    </tr>\n  </thead>\n  <tbody>\n    <tr>\n      <th>0</th>\n      <td>270010005.0</td>\n      <td>Aitkin</td>\n      <td>5.0</td>\n      <td>Aitkin</td>\n      <td>Aitkin</td>\n      <td>1.0</td>\n      <td>8.0</td>\n      <td>10.0</td>\n      <td>10B</td>\n      <td>1.0</td>\n      <td>9.0</td>\n      <td>3001.0</td>\n      <td>NaN</td>\n      <td>NaN</td>\n      <td>NaN</td>\n      <td>Precinct Tabulator</td>\n      <td>ES&amp;S Model 100</td>\n      <td>NO</td>\n      <td>1141</td>\n      <td>110</td>\n      <td>758</td>\n      <td>242</td>\n      <td>0</td>\n      <td>0</td>\n      <td>1000</td>\n      <td>552</td>\n      <td>358</td>\n      <td>3</td>\n      <td>7</td>\n      <td>1</td>\n      <td>2</td>\n      <td>0</td>\n      <td>21</td>\n      <td>36</td>\n      <td>6</td>\n      <td>986</td>\n      <td>491</td>\n      <td>470</td>\n      <td>0</td>\n      <td>961</td>\n      <td>574</td>\n      <td>368</td>\n      <td>1</td>\n      <td>943</td>\n      <td>561</td>\n      <td>411</td>\n      <td>0</td>\n      <td>972</td>\n      <td>731</td>\n      <td>224</td>\n      <td>45</td>\n      <td>1000</td>\n    </tr>\n    <tr>\n      <th>1</th>\n      <td>270010010.0</td>\n      <td>Aitkin Twp</td>\n      <td>10.0</td>\n      <td>Aitkin Twp</td>\n      <td>Aitkin</td>\n      <td>1.0</td>\n      <td>8.0</td>\n      <td>10.0</td>\n      <td>10B</td>\n      <td>1.0</td>\n      <td>9.0</td>\n      <td>3001.0</td>\n      <td>NaN</td>\n      <td>NaN</td>\n      <td>NaN</td>\n      <td>Precinct Tabulator</td>\n      <td>ES&amp;S Model 100</td>\n      <td>NO</td>\n      <td>588</td>\n      <td>44</td>\n      <td>437</td>\n      <td>113</td>\n      <td>0</td>\n      <td>0</td>\n      <td>550</td>\n      <td>356</td>\n      <td>154</td>\n      <td>1</td>\n      <td>2</td>\n      <td>0</td>\n      <td>5</td>\n      <td>0</td>\n      <td>7</td>\n      <td>18</td>\n      <td>4</td>\n      <td>547</td>\n      <td>332</td>\n      <td>206</td>\n      <td>0</td>\n      <td>538</td>\n      <td>381</td>\n      <td>150</td>\n      <td>0</td>\n      <td>531</td>\n      <td>370</td>\n      <td>173</td>\n      <td>0</td>\n      <td>543</td>\n      <td>438</td>\n      <td>95</td>\n      <td>17</td>\n      <td>550</td>\n    </tr>\n    <tr>\n      <th>2</th>\n      <td>270010015.0</td>\n      <td>Ball Bluff Twp</td>\n      <td>15.0</td>\n      <td>Ball Bluff Twp</td>\n      <td>Aitkin</td>\n      <td>1.0</td>\n      <td>8.0</td>\n      <td>10.0</td>\n      <td>10B</td>\n      <td>5.0</td>\n      <td>9.0</td>\n      <td>3001.0</td>\n      <td>NaN</td>\n      <td>NaN</td>\n      <td>NaN</td>\n      <td>Precinct Tabulator</td>\n      <td>ES&amp;S Model 100</td>\n      <td>NO</td>\n      <td>179</td>\n      <td>18</td>\n      <td>145</td>\n      <td>19</td>\n      <td>0</td>\n      <td>0</td>\n      <td>164</td>\n      <td>96</td>\n      <td>57</td>\n      <td>0</td>\n      <td>1</td>\n      <td>0</td>\n      <td>1</td>\n      <td>0</td>\n      <td>2</td>\n      <td>6</td>\n      <td>1</td>\n      <td>164</td>\n      <td>80</td>\n      <td>82</td>\n      <td>0</td>\n      <td>162</td>\n      <td>83</td>\n      <td>77</td>\n      <td>0</td>\n      <td>160</td>\n      <td>79</td>\n      <td>79</td>\n      <td>0</td>\n      <td>158</td>\n      <td>131</td>\n      <td>32</td>\n      <td>1</td>\n      <td>164</td>\n    </tr>\n    <tr>\n      <th>3</th>\n      <td>270010020.0</td>\n      <td>Balsam Twp</td>\n      <td>20.0</td>\n      <td>Balsam Twp</td>\n      <td>Aitkin</td>\n      <td>1.0</td>\n      <td>8.0</td>\n      <td>10.0</td>\n      <td>10B</td>\n      <td>5.0</td>\n      <td>9.0</td>\n      <td>3001.0</td>\n      <td>NaN</td>\n      <td>NaN</td>\n      <td>NaN</td>\n      <td>Central Count</td>\n      <td>ES&amp;S Model 100</td>\n      <td>YES</td>\n      <td>22</td>\n      <td>0</td>\n      <td>0</td>\n      <td>19</td>\n      <td>0</td>\n      <td>0</td>\n      <td>19</td>\n      <td>9</td>\n      <td>8</td>\n      <td>0</td>\n      <td>0</td>\n      <td>0</td>\n      <td>0</td>\n      <td>0</td>\n      <td>0</td>\n      <td>0</td>\n      <td>1</td>\n      <td>18</td>\n      <td>9</td>\n      <td>10</td>\n      <td>0</td>\n      <td>19</td>\n      <td>10</td>\n      <td>9</td>\n      <td>0</td>\n      <td>19</td>\n      <td>8</td>\n      <td>11</td>\n      <td>0</td>\n      <td>19</td>\n      <td>15</td>\n      <td>2</td>\n      <td>2</td>\n      <td>19</td>\n    </tr>\n    <tr>\n      <th>4</th>\n      <td>270010025.0</td>\n      <td>Beaver Twp</td>\n      <td>25.0</td>\n      <td>Beaver Twp</td>\n      <td>Aitkin</td>\n      <td>1.0</td>\n      <td>8.0</td>\n      <td>10.0</td>\n      <td>10B</td>\n      <td>3.0</td>\n      <td>9.0</td>\n      <td>3001.0</td>\n      <td>NaN</td>\n      <td>NaN</td>\n      <td>NaN</td>\n      <td>Central Count</td>\n      <td>ES&amp;S Model 100</td>\n      <td>YES</td>\n      <td>42</td>\n      <td>0</td>\n      <td>0</td>\n      <td>37</td>\n      <td>0</td>\n      <td>0</td>\n      <td>37</td>\n      <td>16</td>\n      <td>19</td>\n      <td>0</td>\n      <td>2</td>\n      <td>0</td>\n      <td>0</td>\n      <td>0</td>\n      <td>0</td>\n      <td>0</td>\n      <td>0</td>\n      <td>37</td>\n      <td>11</td>\n      <td>25</td>\n      <td>0</td>\n      <td>36</td>\n      <td>13</td>\n      <td>20</td>\n      <td>0</td>\n      <td>33</td>\n      <td>11</td>\n      <td>23</td>\n      <td>0</td>\n      <td>34</td>\n      <td>31</td>\n      <td>6</td>\n      <td>0</td>\n      <td>37</td>\n    </tr>\n  </tbody>\n</table>\n</div>"
     },
     "metadata": {},
     "execution_count": 61
    }
   ],
   "source": [
    "# Set file path\n",
    "csvpath = \"Resources/2016_precincts_newVersion.csv\"\n",
    "\n",
    "# Read csv and preview dataframe\n",
    "prec_df = pd.read_csv(csvpath, encoding=\"ISO-8859-1\")\n",
    "pd.set_option('display.max_columns', None)\n",
    "prec_df.head()"
   ]
  },
  {
   "cell_type": "code",
   "execution_count": 62,
   "metadata": {},
   "outputs": [
    {
     "output_type": "execute_result",
     "data": {
      "text/plain": "            VTDID            PCTNAME  PCTCODE            MCDNAME  \\\n0     270010005.0             Aitkin      5.0             Aitkin   \n1     270010010.0         Aitkin Twp     10.0         Aitkin Twp   \n2     270010015.0     Ball Bluff Twp     15.0     Ball Bluff Twp   \n3     270010020.0         Balsam Twp     20.0         Balsam Twp   \n4     270010025.0         Beaver Twp     25.0         Beaver Twp   \n...           ...                ...      ...                ...   \n4115  271730145.0  Swede Prairie Twp    145.0  Swede Prairie Twp   \n4116  271730150.0           Tyro Twp    150.0           Tyro Twp   \n4117  271730155.0      Wergeland Twp    155.0      Wergeland Twp   \n4118  271730160.0          Wood Lake    160.0          Wood Lake   \n4119  271730165.0      Wood Lake Twp    165.0      Wood Lake Twp   \n\n           COUNTYNAME  COUNTYCODE  USPRSR  USPRSDFL  USPRSTOTAL  \n0              Aitkin         1.0     552       358         986  \n1              Aitkin         1.0     356       154         547  \n2              Aitkin         1.0      96        57         164  \n3              Aitkin         1.0       9         8          18  \n4              Aitkin         1.0      16        19          37  \n...               ...         ...     ...       ...         ...  \n4115  Yellow Medicine        87.0      44        13          61  \n4116  Yellow Medicine        87.0      77        19          97  \n4117  Yellow Medicine        87.0      81        24         110  \n4118  Yellow Medicine        87.0     138        51         209  \n4119  Yellow Medicine        87.0      96        23         130  \n\n[4120 rows x 9 columns]",
      "text/html": "<div>\n<style scoped>\n    .dataframe tbody tr th:only-of-type {\n        vertical-align: middle;\n    }\n\n    .dataframe tbody tr th {\n        vertical-align: top;\n    }\n\n    .dataframe thead th {\n        text-align: right;\n    }\n</style>\n<table border=\"1\" class=\"dataframe\">\n  <thead>\n    <tr style=\"text-align: right;\">\n      <th></th>\n      <th>VTDID</th>\n      <th>PCTNAME</th>\n      <th>PCTCODE</th>\n      <th>MCDNAME</th>\n      <th>COUNTYNAME</th>\n      <th>COUNTYCODE</th>\n      <th>USPRSR</th>\n      <th>USPRSDFL</th>\n      <th>USPRSTOTAL</th>\n    </tr>\n  </thead>\n  <tbody>\n    <tr>\n      <th>0</th>\n      <td>270010005.0</td>\n      <td>Aitkin</td>\n      <td>5.0</td>\n      <td>Aitkin</td>\n      <td>Aitkin</td>\n      <td>1.0</td>\n      <td>552</td>\n      <td>358</td>\n      <td>986</td>\n    </tr>\n    <tr>\n      <th>1</th>\n      <td>270010010.0</td>\n      <td>Aitkin Twp</td>\n      <td>10.0</td>\n      <td>Aitkin Twp</td>\n      <td>Aitkin</td>\n      <td>1.0</td>\n      <td>356</td>\n      <td>154</td>\n      <td>547</td>\n    </tr>\n    <tr>\n      <th>2</th>\n      <td>270010015.0</td>\n      <td>Ball Bluff Twp</td>\n      <td>15.0</td>\n      <td>Ball Bluff Twp</td>\n      <td>Aitkin</td>\n      <td>1.0</td>\n      <td>96</td>\n      <td>57</td>\n      <td>164</td>\n    </tr>\n    <tr>\n      <th>3</th>\n      <td>270010020.0</td>\n      <td>Balsam Twp</td>\n      <td>20.0</td>\n      <td>Balsam Twp</td>\n      <td>Aitkin</td>\n      <td>1.0</td>\n      <td>9</td>\n      <td>8</td>\n      <td>18</td>\n    </tr>\n    <tr>\n      <th>4</th>\n      <td>270010025.0</td>\n      <td>Beaver Twp</td>\n      <td>25.0</td>\n      <td>Beaver Twp</td>\n      <td>Aitkin</td>\n      <td>1.0</td>\n      <td>16</td>\n      <td>19</td>\n      <td>37</td>\n    </tr>\n    <tr>\n      <th>...</th>\n      <td>...</td>\n      <td>...</td>\n      <td>...</td>\n      <td>...</td>\n      <td>...</td>\n      <td>...</td>\n      <td>...</td>\n      <td>...</td>\n      <td>...</td>\n    </tr>\n    <tr>\n      <th>4115</th>\n      <td>271730145.0</td>\n      <td>Swede Prairie Twp</td>\n      <td>145.0</td>\n      <td>Swede Prairie Twp</td>\n      <td>Yellow Medicine</td>\n      <td>87.0</td>\n      <td>44</td>\n      <td>13</td>\n      <td>61</td>\n    </tr>\n    <tr>\n      <th>4116</th>\n      <td>271730150.0</td>\n      <td>Tyro Twp</td>\n      <td>150.0</td>\n      <td>Tyro Twp</td>\n      <td>Yellow Medicine</td>\n      <td>87.0</td>\n      <td>77</td>\n      <td>19</td>\n      <td>97</td>\n    </tr>\n    <tr>\n      <th>4117</th>\n      <td>271730155.0</td>\n      <td>Wergeland Twp</td>\n      <td>155.0</td>\n      <td>Wergeland Twp</td>\n      <td>Yellow Medicine</td>\n      <td>87.0</td>\n      <td>81</td>\n      <td>24</td>\n      <td>110</td>\n    </tr>\n    <tr>\n      <th>4118</th>\n      <td>271730160.0</td>\n      <td>Wood Lake</td>\n      <td>160.0</td>\n      <td>Wood Lake</td>\n      <td>Yellow Medicine</td>\n      <td>87.0</td>\n      <td>138</td>\n      <td>51</td>\n      <td>209</td>\n    </tr>\n    <tr>\n      <th>4119</th>\n      <td>271730165.0</td>\n      <td>Wood Lake Twp</td>\n      <td>165.0</td>\n      <td>Wood Lake Twp</td>\n      <td>Yellow Medicine</td>\n      <td>87.0</td>\n      <td>96</td>\n      <td>23</td>\n      <td>130</td>\n    </tr>\n  </tbody>\n</table>\n<p>4120 rows × 9 columns</p>\n</div>"
     },
     "metadata": {},
     "execution_count": 62
    }
   ],
   "source": [
    "prec_df = prec_df[['VTDID', 'PCTNAME', 'PCTCODE', 'MCDNAME', 'COUNTYNAME', 'COUNTYCODE',\n",
    "                   'USPRSR', 'USPRSDFL', 'USPRSTOTAL']][:-1]\n",
    "prec_df"
   ]
  },
  {
   "cell_type": "code",
   "execution_count": 63,
   "metadata": {},
   "outputs": [
    {
     "output_type": "execute_result",
     "data": {
      "text/plain": "         VTDID         PCTNAME  PCTCODE Munic/Unorg Terr Name COUNTYNAME  \\\n0  270010005.0          Aitkin      5.0                Aitkin     Aitkin   \n1  270010010.0      Aitkin Twp     10.0            Aitkin Twp     Aitkin   \n2  270010015.0  Ball Bluff Twp     15.0        Ball Bluff Twp     Aitkin   \n3  270010020.0      Balsam Twp     20.0            Balsam Twp     Aitkin   \n4  270010025.0      Beaver Twp     25.0            Beaver Twp     Aitkin   \n\n   COUNTYCODE  Trump  Clinton  Total Votes  \n0         1.0    552      358          986  \n1         1.0    356      154          547  \n2         1.0     96       57          164  \n3         1.0      9        8           18  \n4         1.0     16       19           37  ",
      "text/html": "<div>\n<style scoped>\n    .dataframe tbody tr th:only-of-type {\n        vertical-align: middle;\n    }\n\n    .dataframe tbody tr th {\n        vertical-align: top;\n    }\n\n    .dataframe thead th {\n        text-align: right;\n    }\n</style>\n<table border=\"1\" class=\"dataframe\">\n  <thead>\n    <tr style=\"text-align: right;\">\n      <th></th>\n      <th>VTDID</th>\n      <th>PCTNAME</th>\n      <th>PCTCODE</th>\n      <th>Munic/Unorg Terr Name</th>\n      <th>COUNTYNAME</th>\n      <th>COUNTYCODE</th>\n      <th>Trump</th>\n      <th>Clinton</th>\n      <th>Total Votes</th>\n    </tr>\n  </thead>\n  <tbody>\n    <tr>\n      <th>0</th>\n      <td>270010005.0</td>\n      <td>Aitkin</td>\n      <td>5.0</td>\n      <td>Aitkin</td>\n      <td>Aitkin</td>\n      <td>1.0</td>\n      <td>552</td>\n      <td>358</td>\n      <td>986</td>\n    </tr>\n    <tr>\n      <th>1</th>\n      <td>270010010.0</td>\n      <td>Aitkin Twp</td>\n      <td>10.0</td>\n      <td>Aitkin Twp</td>\n      <td>Aitkin</td>\n      <td>1.0</td>\n      <td>356</td>\n      <td>154</td>\n      <td>547</td>\n    </tr>\n    <tr>\n      <th>2</th>\n      <td>270010015.0</td>\n      <td>Ball Bluff Twp</td>\n      <td>15.0</td>\n      <td>Ball Bluff Twp</td>\n      <td>Aitkin</td>\n      <td>1.0</td>\n      <td>96</td>\n      <td>57</td>\n      <td>164</td>\n    </tr>\n    <tr>\n      <th>3</th>\n      <td>270010020.0</td>\n      <td>Balsam Twp</td>\n      <td>20.0</td>\n      <td>Balsam Twp</td>\n      <td>Aitkin</td>\n      <td>1.0</td>\n      <td>9</td>\n      <td>8</td>\n      <td>18</td>\n    </tr>\n    <tr>\n      <th>4</th>\n      <td>270010025.0</td>\n      <td>Beaver Twp</td>\n      <td>25.0</td>\n      <td>Beaver Twp</td>\n      <td>Aitkin</td>\n      <td>1.0</td>\n      <td>16</td>\n      <td>19</td>\n      <td>37</td>\n    </tr>\n  </tbody>\n</table>\n</div>"
     },
     "metadata": {},
     "execution_count": 63
    }
   ],
   "source": [
    "prec_df = prec_df.rename(columns = {'MCDNAME': 'Munic/Unorg Terr Name',\n",
    "                                    'USPRSR': 'Trump', 'USPRSDFL': 'Clinton',\n",
    "                                    'USPRSTOTAL': 'Total Votes'})\n",
    "prec_df.head()"
   ]
  },
  {
   "cell_type": "code",
   "execution_count": 64,
   "metadata": {},
   "outputs": [
    {
     "output_type": "execute_result",
     "data": {
      "text/plain": "         VTDID         PCTNAME  PCTCODE Munic/Unorg Terr Name COUNTYNAME  \\\n0  270010005.0          Aitkin      5.0                Aitkin     Aitkin   \n1  270010010.0      Aitkin Twp     10.0            Aitkin Twp     Aitkin   \n2  270010015.0  Ball Bluff Twp     15.0        Ball Bluff Twp     Aitkin   \n3  270010020.0      Balsam Twp     20.0            Balsam Twp     Aitkin   \n4  270010025.0      Beaver Twp     25.0            Beaver Twp     Aitkin   \n\n   COUNTYCODE  Trump  Clinton  Total Votes  Trump %  Clinton %  \n0         1.0    552      358          986    55.98      36.31  \n1         1.0    356      154          547    65.08      28.15  \n2         1.0     96       57          164    58.54      34.76  \n3         1.0      9        8           18    50.00      44.44  \n4         1.0     16       19           37    43.24      51.35  ",
      "text/html": "<div>\n<style scoped>\n    .dataframe tbody tr th:only-of-type {\n        vertical-align: middle;\n    }\n\n    .dataframe tbody tr th {\n        vertical-align: top;\n    }\n\n    .dataframe thead th {\n        text-align: right;\n    }\n</style>\n<table border=\"1\" class=\"dataframe\">\n  <thead>\n    <tr style=\"text-align: right;\">\n      <th></th>\n      <th>VTDID</th>\n      <th>PCTNAME</th>\n      <th>PCTCODE</th>\n      <th>Munic/Unorg Terr Name</th>\n      <th>COUNTYNAME</th>\n      <th>COUNTYCODE</th>\n      <th>Trump</th>\n      <th>Clinton</th>\n      <th>Total Votes</th>\n      <th>Trump %</th>\n      <th>Clinton %</th>\n    </tr>\n  </thead>\n  <tbody>\n    <tr>\n      <th>0</th>\n      <td>270010005.0</td>\n      <td>Aitkin</td>\n      <td>5.0</td>\n      <td>Aitkin</td>\n      <td>Aitkin</td>\n      <td>1.0</td>\n      <td>552</td>\n      <td>358</td>\n      <td>986</td>\n      <td>55.98</td>\n      <td>36.31</td>\n    </tr>\n    <tr>\n      <th>1</th>\n      <td>270010010.0</td>\n      <td>Aitkin Twp</td>\n      <td>10.0</td>\n      <td>Aitkin Twp</td>\n      <td>Aitkin</td>\n      <td>1.0</td>\n      <td>356</td>\n      <td>154</td>\n      <td>547</td>\n      <td>65.08</td>\n      <td>28.15</td>\n    </tr>\n    <tr>\n      <th>2</th>\n      <td>270010015.0</td>\n      <td>Ball Bluff Twp</td>\n      <td>15.0</td>\n      <td>Ball Bluff Twp</td>\n      <td>Aitkin</td>\n      <td>1.0</td>\n      <td>96</td>\n      <td>57</td>\n      <td>164</td>\n      <td>58.54</td>\n      <td>34.76</td>\n    </tr>\n    <tr>\n      <th>3</th>\n      <td>270010020.0</td>\n      <td>Balsam Twp</td>\n      <td>20.0</td>\n      <td>Balsam Twp</td>\n      <td>Aitkin</td>\n      <td>1.0</td>\n      <td>9</td>\n      <td>8</td>\n      <td>18</td>\n      <td>50.00</td>\n      <td>44.44</td>\n    </tr>\n    <tr>\n      <th>4</th>\n      <td>270010025.0</td>\n      <td>Beaver Twp</td>\n      <td>25.0</td>\n      <td>Beaver Twp</td>\n      <td>Aitkin</td>\n      <td>1.0</td>\n      <td>16</td>\n      <td>19</td>\n      <td>37</td>\n      <td>43.24</td>\n      <td>51.35</td>\n    </tr>\n  </tbody>\n</table>\n</div>"
     },
     "metadata": {},
     "execution_count": 64
    }
   ],
   "source": [
    "prec_df['Trump %'] = ((prec_df['Trump'] / prec_df['Total Votes']) * 100).round(2)\n",
    "prec_df['Clinton %'] = ((prec_df['Clinton'] / prec_df['Total Votes']) * 100).round(2)\n",
    "prec_df.head()"
   ]
  },
  {
   "cell_type": "code",
   "execution_count": 68,
   "metadata": {},
   "outputs": [
    {
     "output_type": "execute_result",
     "data": {
      "text/plain": "VTDID            object\nprecinct         object\ncounty_fips     float64\ngeometry       geometry\ndtype: object"
     },
     "metadata": {},
     "execution_count": 68
    }
   ],
   "source": [
    "prec_shp.head()\n",
    "prec_shp.dtypes"
   ]
  },
  {
   "cell_type": "code",
   "execution_count": 67,
   "metadata": {},
   "outputs": [
    {
     "output_type": "execute_result",
     "data": {
      "text/plain": "VTDID                    float64\nPCTNAME                   object\nPCTCODE                  float64\nMunic/Unorg Terr Name     object\nCOUNTYNAME                object\nCOUNTYCODE               float64\nTrump                      int64\nClinton                    int64\nTotal Votes                int64\nTrump %                  float64\nClinton %                float64\ndtype: object"
     },
     "metadata": {},
     "execution_count": 67
    }
   ],
   "source": [
    "prec_df.head()\n",
    "prec_df.dtypes"
   ]
  },
  {
   "cell_type": "code",
   "execution_count": null,
   "metadata": {},
   "outputs": [],
   "source": []
  },
  {
   "cell_type": "code",
   "execution_count": 70,
   "metadata": {},
   "outputs": [
    {
     "output_type": "execute_result",
     "data": {
      "text/plain": "            VTDID          precinct  county_fips  \\\n0     271730045.0    Friendship Twp        173.0   \n1     270910110.0        Galena Twp         91.0   \n2     270930045.0        Darwin Twp         93.0   \n3     271370060.0       Biwabik Twp        137.0   \n4     270010015.0    Ball Bluff Twp          1.0   \n...           ...               ...          ...   \n4105  270950015.0      Borgholm Twp         95.0   \n4106  270530505.0      Corcoran P-2         53.0   \n4107  271710005.0   Albertville P-1        171.0   \n4108  271710127.0    Monticello P-2        171.0   \n4109  271410120.0  Big Lake Twp P-2        141.0   \n\n                                               geometry  \n0     POLYGON ((284369.269 4964918.229, 284321.301 4...  \n1     POLYGON ((362977.491 4856419.851, 362974.359 4...  \n2     POLYGON ((391605.300 5000799.731, 391581.799 4...  \n3     MULTIPOLYGON (((544403.320 5260705.800, 544214...  \n4     POLYGON ((485475.521 5207980.031, 485475.766 5...  \n...                                                 ...  \n4105  MULTIPOLYGON (((450879.660 5068471.679, 451005...  \n4106  POLYGON ((455732.119 5000074.516, 457351.820 5...  \n4107  POLYGON ((447828.738 5007699.654, 447826.627 5...  \n4108  POLYGON ((439564.488 5015565.645, 439569.764 5...  \n4109  MULTIPOLYGON (((447091.451 5019270.882, 447094...  \n\n[4110 rows x 4 columns]",
      "text/html": "<div>\n<style scoped>\n    .dataframe tbody tr th:only-of-type {\n        vertical-align: middle;\n    }\n\n    .dataframe tbody tr th {\n        vertical-align: top;\n    }\n\n    .dataframe thead th {\n        text-align: right;\n    }\n</style>\n<table border=\"1\" class=\"dataframe\">\n  <thead>\n    <tr style=\"text-align: right;\">\n      <th></th>\n      <th>VTDID</th>\n      <th>precinct</th>\n      <th>county_fips</th>\n      <th>geometry</th>\n    </tr>\n  </thead>\n  <tbody>\n    <tr>\n      <th>0</th>\n      <td>271730045.0</td>\n      <td>Friendship Twp</td>\n      <td>173.0</td>\n      <td>POLYGON ((284369.269 4964918.229, 284321.301 4...</td>\n    </tr>\n    <tr>\n      <th>1</th>\n      <td>270910110.0</td>\n      <td>Galena Twp</td>\n      <td>91.0</td>\n      <td>POLYGON ((362977.491 4856419.851, 362974.359 4...</td>\n    </tr>\n    <tr>\n      <th>2</th>\n      <td>270930045.0</td>\n      <td>Darwin Twp</td>\n      <td>93.0</td>\n      <td>POLYGON ((391605.300 5000799.731, 391581.799 4...</td>\n    </tr>\n    <tr>\n      <th>3</th>\n      <td>271370060.0</td>\n      <td>Biwabik Twp</td>\n      <td>137.0</td>\n      <td>MULTIPOLYGON (((544403.320 5260705.800, 544214...</td>\n    </tr>\n    <tr>\n      <th>4</th>\n      <td>270010015.0</td>\n      <td>Ball Bluff Twp</td>\n      <td>1.0</td>\n      <td>POLYGON ((485475.521 5207980.031, 485475.766 5...</td>\n    </tr>\n    <tr>\n      <th>...</th>\n      <td>...</td>\n      <td>...</td>\n      <td>...</td>\n      <td>...</td>\n    </tr>\n    <tr>\n      <th>4105</th>\n      <td>270950015.0</td>\n      <td>Borgholm Twp</td>\n      <td>95.0</td>\n      <td>MULTIPOLYGON (((450879.660 5068471.679, 451005...</td>\n    </tr>\n    <tr>\n      <th>4106</th>\n      <td>270530505.0</td>\n      <td>Corcoran P-2</td>\n      <td>53.0</td>\n      <td>POLYGON ((455732.119 5000074.516, 457351.820 5...</td>\n    </tr>\n    <tr>\n      <th>4107</th>\n      <td>271710005.0</td>\n      <td>Albertville P-1</td>\n      <td>171.0</td>\n      <td>POLYGON ((447828.738 5007699.654, 447826.627 5...</td>\n    </tr>\n    <tr>\n      <th>4108</th>\n      <td>271710127.0</td>\n      <td>Monticello P-2</td>\n      <td>171.0</td>\n      <td>POLYGON ((439564.488 5015565.645, 439569.764 5...</td>\n    </tr>\n    <tr>\n      <th>4109</th>\n      <td>271410120.0</td>\n      <td>Big Lake Twp P-2</td>\n      <td>141.0</td>\n      <td>MULTIPOLYGON (((447091.451 5019270.882, 447094...</td>\n    </tr>\n  </tbody>\n</table>\n<p>4110 rows × 4 columns</p>\n</div>"
     },
     "metadata": {},
     "execution_count": 70
    }
   ],
   "source": [
    "prec_shp['VTDID'] = prec_shp['VTDID'].astype(float)\n",
    "prec_shp"
   ]
  },
  {
   "cell_type": "code",
   "execution_count": 71,
   "metadata": {},
   "outputs": [],
   "source": [
    "merged_df = pd.merge(prec_shp, prec_df, on = 'VTDID')"
   ]
  },
  {
   "cell_type": "code",
   "execution_count": 72,
   "metadata": {},
   "outputs": [
    {
     "output_type": "execute_result",
     "data": {
      "text/plain": "            VTDID              precinct  county_fips  \\\n0     271730045.0        Friendship Twp        173.0   \n1     270910110.0            Galena Twp         91.0   \n2     270930045.0            Darwin Twp         93.0   \n3     271370060.0           Biwabik Twp        137.0   \n4     270010015.0        Ball Bluff Twp          1.0   \n...           ...                   ...          ...   \n4096  270531810.0  Minneapolis W-10 P-2         53.0   \n4097  270950015.0          Borgholm Twp         95.0   \n4098  270530505.0          Corcoran P-2         53.0   \n4099  271710005.0       Albertville P-1        171.0   \n4100  271410120.0      Big Lake Twp P-2        141.0   \n\n                                               geometry  \\\n0     POLYGON ((284369.269 4964918.229, 284321.301 4...   \n1     POLYGON ((362977.491 4856419.851, 362974.359 4...   \n2     POLYGON ((391605.300 5000799.731, 391581.799 4...   \n3     MULTIPOLYGON (((544403.320 5260705.800, 544214...   \n4     POLYGON ((485475.521 5207980.031, 485475.766 5...   \n...                                                 ...   \n4096  POLYGON ((476878.092 4978054.295, 476875.969 4...   \n4097  MULTIPOLYGON (((450879.660 5068471.679, 451005...   \n4098  POLYGON ((455732.119 5000074.516, 457351.820 5...   \n4099  POLYGON ((447828.738 5007699.654, 447826.627 5...   \n4100  MULTIPOLYGON (((447091.451 5019270.882, 447094...   \n\n                    PCTNAME  PCTCODE Munic/Unorg Terr Name       COUNTYNAME  \\\n0            Friendship Twp     45.0        Friendship Twp  Yellow Medicine   \n1               Galena Twp.    110.0            Galena Twp           Martin   \n2               Darwin Twp.     45.0            Darwin Twp           Meeker   \n3              Biwabik Twp.     60.0           Biwabik Twp        St. Louis   \n4            Ball Bluff Twp     15.0        Ball Bluff Twp           Aitkin   \n...                     ...      ...                   ...              ...   \n4096  Minneapolis W-10 P-02   1810.0           Minneapolis         Hennepin   \n4097          Borgholm Twp.     15.0          Borgholm Twp       Mille Lacs   \n4098          Corcoran P-02    505.0              Corcoran         Hennepin   \n4099            Albertville      5.0           Albertville           Wright   \n4100        Big Lake Twp P2    120.0          Big Lake Twp        Sherburne   \n\n      COUNTYCODE  Trump  Clinton  Total Votes  Trump %  Clinton %  \n0           87.0     91       33          133    68.42      24.81  \n1           46.0     84       43          130    64.62      33.08  \n2           47.0    295       97          425    69.41      22.82  \n3           69.0    289      234          556    51.98      42.09  \n4            1.0     96       57          164    58.54      34.76  \n...          ...    ...      ...          ...      ...        ...  \n4096        27.0    429     2478         3208    13.37      77.24  \n4097        48.0    662      181          900    73.56      20.11  \n4098        27.0    889      454         1452    61.23      31.27  \n4099        86.0   2251     1110         3734    60.28      29.73  \n4100        71.0    874      291         1269    68.87      22.93  \n\n[4101 rows x 14 columns]",
      "text/html": "<div>\n<style scoped>\n    .dataframe tbody tr th:only-of-type {\n        vertical-align: middle;\n    }\n\n    .dataframe tbody tr th {\n        vertical-align: top;\n    }\n\n    .dataframe thead th {\n        text-align: right;\n    }\n</style>\n<table border=\"1\" class=\"dataframe\">\n  <thead>\n    <tr style=\"text-align: right;\">\n      <th></th>\n      <th>VTDID</th>\n      <th>precinct</th>\n      <th>county_fips</th>\n      <th>geometry</th>\n      <th>PCTNAME</th>\n      <th>PCTCODE</th>\n      <th>Munic/Unorg Terr Name</th>\n      <th>COUNTYNAME</th>\n      <th>COUNTYCODE</th>\n      <th>Trump</th>\n      <th>Clinton</th>\n      <th>Total Votes</th>\n      <th>Trump %</th>\n      <th>Clinton %</th>\n    </tr>\n  </thead>\n  <tbody>\n    <tr>\n      <th>0</th>\n      <td>271730045.0</td>\n      <td>Friendship Twp</td>\n      <td>173.0</td>\n      <td>POLYGON ((284369.269 4964918.229, 284321.301 4...</td>\n      <td>Friendship Twp</td>\n      <td>45.0</td>\n      <td>Friendship Twp</td>\n      <td>Yellow Medicine</td>\n      <td>87.0</td>\n      <td>91</td>\n      <td>33</td>\n      <td>133</td>\n      <td>68.42</td>\n      <td>24.81</td>\n    </tr>\n    <tr>\n      <th>1</th>\n      <td>270910110.0</td>\n      <td>Galena Twp</td>\n      <td>91.0</td>\n      <td>POLYGON ((362977.491 4856419.851, 362974.359 4...</td>\n      <td>Galena Twp.</td>\n      <td>110.0</td>\n      <td>Galena Twp</td>\n      <td>Martin</td>\n      <td>46.0</td>\n      <td>84</td>\n      <td>43</td>\n      <td>130</td>\n      <td>64.62</td>\n      <td>33.08</td>\n    </tr>\n    <tr>\n      <th>2</th>\n      <td>270930045.0</td>\n      <td>Darwin Twp</td>\n      <td>93.0</td>\n      <td>POLYGON ((391605.300 5000799.731, 391581.799 4...</td>\n      <td>Darwin Twp.</td>\n      <td>45.0</td>\n      <td>Darwin Twp</td>\n      <td>Meeker</td>\n      <td>47.0</td>\n      <td>295</td>\n      <td>97</td>\n      <td>425</td>\n      <td>69.41</td>\n      <td>22.82</td>\n    </tr>\n    <tr>\n      <th>3</th>\n      <td>271370060.0</td>\n      <td>Biwabik Twp</td>\n      <td>137.0</td>\n      <td>MULTIPOLYGON (((544403.320 5260705.800, 544214...</td>\n      <td>Biwabik Twp.</td>\n      <td>60.0</td>\n      <td>Biwabik Twp</td>\n      <td>St. Louis</td>\n      <td>69.0</td>\n      <td>289</td>\n      <td>234</td>\n      <td>556</td>\n      <td>51.98</td>\n      <td>42.09</td>\n    </tr>\n    <tr>\n      <th>4</th>\n      <td>270010015.0</td>\n      <td>Ball Bluff Twp</td>\n      <td>1.0</td>\n      <td>POLYGON ((485475.521 5207980.031, 485475.766 5...</td>\n      <td>Ball Bluff Twp</td>\n      <td>15.0</td>\n      <td>Ball Bluff Twp</td>\n      <td>Aitkin</td>\n      <td>1.0</td>\n      <td>96</td>\n      <td>57</td>\n      <td>164</td>\n      <td>58.54</td>\n      <td>34.76</td>\n    </tr>\n    <tr>\n      <th>...</th>\n      <td>...</td>\n      <td>...</td>\n      <td>...</td>\n      <td>...</td>\n      <td>...</td>\n      <td>...</td>\n      <td>...</td>\n      <td>...</td>\n      <td>...</td>\n      <td>...</td>\n      <td>...</td>\n      <td>...</td>\n      <td>...</td>\n      <td>...</td>\n    </tr>\n    <tr>\n      <th>4096</th>\n      <td>270531810.0</td>\n      <td>Minneapolis W-10 P-2</td>\n      <td>53.0</td>\n      <td>POLYGON ((476878.092 4978054.295, 476875.969 4...</td>\n      <td>Minneapolis W-10 P-02</td>\n      <td>1810.0</td>\n      <td>Minneapolis</td>\n      <td>Hennepin</td>\n      <td>27.0</td>\n      <td>429</td>\n      <td>2478</td>\n      <td>3208</td>\n      <td>13.37</td>\n      <td>77.24</td>\n    </tr>\n    <tr>\n      <th>4097</th>\n      <td>270950015.0</td>\n      <td>Borgholm Twp</td>\n      <td>95.0</td>\n      <td>MULTIPOLYGON (((450879.660 5068471.679, 451005...</td>\n      <td>Borgholm Twp.</td>\n      <td>15.0</td>\n      <td>Borgholm Twp</td>\n      <td>Mille Lacs</td>\n      <td>48.0</td>\n      <td>662</td>\n      <td>181</td>\n      <td>900</td>\n      <td>73.56</td>\n      <td>20.11</td>\n    </tr>\n    <tr>\n      <th>4098</th>\n      <td>270530505.0</td>\n      <td>Corcoran P-2</td>\n      <td>53.0</td>\n      <td>POLYGON ((455732.119 5000074.516, 457351.820 5...</td>\n      <td>Corcoran P-02</td>\n      <td>505.0</td>\n      <td>Corcoran</td>\n      <td>Hennepin</td>\n      <td>27.0</td>\n      <td>889</td>\n      <td>454</td>\n      <td>1452</td>\n      <td>61.23</td>\n      <td>31.27</td>\n    </tr>\n    <tr>\n      <th>4099</th>\n      <td>271710005.0</td>\n      <td>Albertville P-1</td>\n      <td>171.0</td>\n      <td>POLYGON ((447828.738 5007699.654, 447826.627 5...</td>\n      <td>Albertville</td>\n      <td>5.0</td>\n      <td>Albertville</td>\n      <td>Wright</td>\n      <td>86.0</td>\n      <td>2251</td>\n      <td>1110</td>\n      <td>3734</td>\n      <td>60.28</td>\n      <td>29.73</td>\n    </tr>\n    <tr>\n      <th>4100</th>\n      <td>271410120.0</td>\n      <td>Big Lake Twp P-2</td>\n      <td>141.0</td>\n      <td>MULTIPOLYGON (((447091.451 5019270.882, 447094...</td>\n      <td>Big Lake Twp P2</td>\n      <td>120.0</td>\n      <td>Big Lake Twp</td>\n      <td>Sherburne</td>\n      <td>71.0</td>\n      <td>874</td>\n      <td>291</td>\n      <td>1269</td>\n      <td>68.87</td>\n      <td>22.93</td>\n    </tr>\n  </tbody>\n</table>\n<p>4101 rows × 14 columns</p>\n</div>"
     },
     "metadata": {},
     "execution_count": 72
    }
   ],
   "source": [
    "merged_df"
   ]
  },
  {
   "cell_type": "code",
   "execution_count": 39,
   "metadata": {},
   "outputs": [
    {
     "output_type": "error",
     "ename": "KeyError",
     "evalue": "'VTDID'",
     "traceback": [
      "\u001b[1;31m---------------------------------------------------------------------------\u001b[0m",
      "\u001b[1;31mKeyError\u001b[0m                                  Traceback (most recent call last)",
      "\u001b[1;32m~\\Anaconda3\\envs\\LizPy\\lib\\site-packages\\pandas\\core\\indexes\\base.py\u001b[0m in \u001b[0;36mget_loc\u001b[1;34m(self, key, method, tolerance)\u001b[0m\n\u001b[0;32m   2888\u001b[0m             \u001b[1;32mtry\u001b[0m\u001b[1;33m:\u001b[0m\u001b[1;33m\u001b[0m\u001b[1;33m\u001b[0m\u001b[0m\n\u001b[1;32m-> 2889\u001b[1;33m                 \u001b[1;32mreturn\u001b[0m \u001b[0mself\u001b[0m\u001b[1;33m.\u001b[0m\u001b[0m_engine\u001b[0m\u001b[1;33m.\u001b[0m\u001b[0mget_loc\u001b[0m\u001b[1;33m(\u001b[0m\u001b[0mcasted_key\u001b[0m\u001b[1;33m)\u001b[0m\u001b[1;33m\u001b[0m\u001b[1;33m\u001b[0m\u001b[0m\n\u001b[0m\u001b[0;32m   2890\u001b[0m             \u001b[1;32mexcept\u001b[0m \u001b[0mKeyError\u001b[0m \u001b[1;32mas\u001b[0m \u001b[0merr\u001b[0m\u001b[1;33m:\u001b[0m\u001b[1;33m\u001b[0m\u001b[1;33m\u001b[0m\u001b[0m\n",
      "\u001b[1;32mpandas\\_libs\\index.pyx\u001b[0m in \u001b[0;36mpandas._libs.index.IndexEngine.get_loc\u001b[1;34m()\u001b[0m\n",
      "\u001b[1;32mpandas\\_libs\\index.pyx\u001b[0m in \u001b[0;36mpandas._libs.index.IndexEngine.get_loc\u001b[1;34m()\u001b[0m\n",
      "\u001b[1;32mpandas\\_libs\\hashtable_class_helper.pxi\u001b[0m in \u001b[0;36mpandas._libs.hashtable.PyObjectHashTable.get_item\u001b[1;34m()\u001b[0m\n",
      "\u001b[1;32mpandas\\_libs\\hashtable_class_helper.pxi\u001b[0m in \u001b[0;36mpandas._libs.hashtable.PyObjectHashTable.get_item\u001b[1;34m()\u001b[0m\n",
      "\u001b[1;31mKeyError\u001b[0m: 'VTDID'",
      "\nThe above exception was the direct cause of the following exception:\n",
      "\u001b[1;31mKeyError\u001b[0m                                  Traceback (most recent call last)",
      "\u001b[1;32m<ipython-input-39-555afa954b8e>\u001b[0m in \u001b[0;36m<module>\u001b[1;34m\u001b[0m\n\u001b[1;32m----> 1\u001b[1;33m \u001b[0mtest\u001b[0m \u001b[1;33m=\u001b[0m \u001b[0mpd\u001b[0m\u001b[1;33m.\u001b[0m\u001b[0mDataFrame\u001b[0m\u001b[1;33m(\u001b[0m\u001b[0mprec_shp\u001b[0m\u001b[1;33m[\u001b[0m\u001b[1;34m'VTDID'\u001b[0m\u001b[1;33m]\u001b[0m\u001b[1;33m)\u001b[0m\u001b[1;33m\u001b[0m\u001b[1;33m\u001b[0m\u001b[0m\n\u001b[0m\u001b[0;32m      2\u001b[0m \u001b[0mtest\u001b[0m\u001b[1;33m\u001b[0m\u001b[1;33m\u001b[0m\u001b[0m\n",
      "\u001b[1;32m~\\Anaconda3\\envs\\LizPy\\lib\\site-packages\\geopandas\\geodataframe.py\u001b[0m in \u001b[0;36m__getitem__\u001b[1;34m(self, key)\u001b[0m\n\u001b[0;32m    826\u001b[0m         \u001b[0mGeoDataFrame\u001b[0m\u001b[1;33m.\u001b[0m\u001b[1;33m\u001b[0m\u001b[1;33m\u001b[0m\u001b[0m\n\u001b[0;32m    827\u001b[0m         \"\"\"\n\u001b[1;32m--> 828\u001b[1;33m         \u001b[0mresult\u001b[0m \u001b[1;33m=\u001b[0m \u001b[0msuper\u001b[0m\u001b[1;33m(\u001b[0m\u001b[0mGeoDataFrame\u001b[0m\u001b[1;33m,\u001b[0m \u001b[0mself\u001b[0m\u001b[1;33m)\u001b[0m\u001b[1;33m.\u001b[0m\u001b[0m__getitem__\u001b[0m\u001b[1;33m(\u001b[0m\u001b[0mkey\u001b[0m\u001b[1;33m)\u001b[0m\u001b[1;33m\u001b[0m\u001b[1;33m\u001b[0m\u001b[0m\n\u001b[0m\u001b[0;32m    829\u001b[0m         \u001b[0mgeo_col\u001b[0m \u001b[1;33m=\u001b[0m \u001b[0mself\u001b[0m\u001b[1;33m.\u001b[0m\u001b[0m_geometry_column_name\u001b[0m\u001b[1;33m\u001b[0m\u001b[1;33m\u001b[0m\u001b[0m\n\u001b[0;32m    830\u001b[0m         \u001b[1;32mif\u001b[0m \u001b[0misinstance\u001b[0m\u001b[1;33m(\u001b[0m\u001b[0mresult\u001b[0m\u001b[1;33m,\u001b[0m \u001b[0mSeries\u001b[0m\u001b[1;33m)\u001b[0m \u001b[1;32mand\u001b[0m \u001b[0misinstance\u001b[0m\u001b[1;33m(\u001b[0m\u001b[0mresult\u001b[0m\u001b[1;33m.\u001b[0m\u001b[0mdtype\u001b[0m\u001b[1;33m,\u001b[0m \u001b[0mGeometryDtype\u001b[0m\u001b[1;33m)\u001b[0m\u001b[1;33m:\u001b[0m\u001b[1;33m\u001b[0m\u001b[1;33m\u001b[0m\u001b[0m\n",
      "\u001b[1;32m~\\Anaconda3\\envs\\LizPy\\lib\\site-packages\\pandas\\core\\frame.py\u001b[0m in \u001b[0;36m__getitem__\u001b[1;34m(self, key)\u001b[0m\n\u001b[0;32m   2897\u001b[0m             \u001b[1;32mif\u001b[0m \u001b[0mself\u001b[0m\u001b[1;33m.\u001b[0m\u001b[0mcolumns\u001b[0m\u001b[1;33m.\u001b[0m\u001b[0mnlevels\u001b[0m \u001b[1;33m>\u001b[0m \u001b[1;36m1\u001b[0m\u001b[1;33m:\u001b[0m\u001b[1;33m\u001b[0m\u001b[1;33m\u001b[0m\u001b[0m\n\u001b[0;32m   2898\u001b[0m                 \u001b[1;32mreturn\u001b[0m \u001b[0mself\u001b[0m\u001b[1;33m.\u001b[0m\u001b[0m_getitem_multilevel\u001b[0m\u001b[1;33m(\u001b[0m\u001b[0mkey\u001b[0m\u001b[1;33m)\u001b[0m\u001b[1;33m\u001b[0m\u001b[1;33m\u001b[0m\u001b[0m\n\u001b[1;32m-> 2899\u001b[1;33m             \u001b[0mindexer\u001b[0m \u001b[1;33m=\u001b[0m \u001b[0mself\u001b[0m\u001b[1;33m.\u001b[0m\u001b[0mcolumns\u001b[0m\u001b[1;33m.\u001b[0m\u001b[0mget_loc\u001b[0m\u001b[1;33m(\u001b[0m\u001b[0mkey\u001b[0m\u001b[1;33m)\u001b[0m\u001b[1;33m\u001b[0m\u001b[1;33m\u001b[0m\u001b[0m\n\u001b[0m\u001b[0;32m   2900\u001b[0m             \u001b[1;32mif\u001b[0m \u001b[0mis_integer\u001b[0m\u001b[1;33m(\u001b[0m\u001b[0mindexer\u001b[0m\u001b[1;33m)\u001b[0m\u001b[1;33m:\u001b[0m\u001b[1;33m\u001b[0m\u001b[1;33m\u001b[0m\u001b[0m\n\u001b[0;32m   2901\u001b[0m                 \u001b[0mindexer\u001b[0m \u001b[1;33m=\u001b[0m \u001b[1;33m[\u001b[0m\u001b[0mindexer\u001b[0m\u001b[1;33m]\u001b[0m\u001b[1;33m\u001b[0m\u001b[1;33m\u001b[0m\u001b[0m\n",
      "\u001b[1;32m~\\Anaconda3\\envs\\LizPy\\lib\\site-packages\\pandas\\core\\indexes\\base.py\u001b[0m in \u001b[0;36mget_loc\u001b[1;34m(self, key, method, tolerance)\u001b[0m\n\u001b[0;32m   2889\u001b[0m                 \u001b[1;32mreturn\u001b[0m \u001b[0mself\u001b[0m\u001b[1;33m.\u001b[0m\u001b[0m_engine\u001b[0m\u001b[1;33m.\u001b[0m\u001b[0mget_loc\u001b[0m\u001b[1;33m(\u001b[0m\u001b[0mcasted_key\u001b[0m\u001b[1;33m)\u001b[0m\u001b[1;33m\u001b[0m\u001b[1;33m\u001b[0m\u001b[0m\n\u001b[0;32m   2890\u001b[0m             \u001b[1;32mexcept\u001b[0m \u001b[0mKeyError\u001b[0m \u001b[1;32mas\u001b[0m \u001b[0merr\u001b[0m\u001b[1;33m:\u001b[0m\u001b[1;33m\u001b[0m\u001b[1;33m\u001b[0m\u001b[0m\n\u001b[1;32m-> 2891\u001b[1;33m                 \u001b[1;32mraise\u001b[0m \u001b[0mKeyError\u001b[0m\u001b[1;33m(\u001b[0m\u001b[0mkey\u001b[0m\u001b[1;33m)\u001b[0m \u001b[1;32mfrom\u001b[0m \u001b[0merr\u001b[0m\u001b[1;33m\u001b[0m\u001b[1;33m\u001b[0m\u001b[0m\n\u001b[0m\u001b[0;32m   2892\u001b[0m \u001b[1;33m\u001b[0m\u001b[0m\n\u001b[0;32m   2893\u001b[0m         \u001b[1;32mif\u001b[0m \u001b[0mtolerance\u001b[0m \u001b[1;32mis\u001b[0m \u001b[1;32mnot\u001b[0m \u001b[1;32mNone\u001b[0m\u001b[1;33m:\u001b[0m\u001b[1;33m\u001b[0m\u001b[1;33m\u001b[0m\u001b[0m\n",
      "\u001b[1;31mKeyError\u001b[0m: 'VTDID'"
     ]
    }
   ],
   "source": [
    "test = pd.DataFrame(prec_shp['VTDID'])\n",
    "test"
   ]
  },
  {
   "cell_type": "code",
   "execution_count": null,
   "metadata": {},
   "outputs": [],
   "source": [
    "test2 = pd.DataFrame(prec_df['VTDID'])\n",
    "test2"
   ]
  },
  {
   "cell_type": "code",
   "execution_count": null,
   "metadata": {},
   "outputs": [],
   "source": [
    "test = pd.Series(prec_shp['VTDID'])\n",
    "test"
   ]
  },
  {
   "cell_type": "code",
   "execution_count": null,
   "metadata": {},
   "outputs": [],
   "source": [
    "test2 = pd.Series(prec_df['VTDID'])\n",
    "test2"
   ]
  },
  {
   "cell_type": "code",
   "execution_count": null,
   "metadata": {},
   "outputs": [],
   "source": [
    "test.compare(test2)"
   ]
  },
  {
   "cell_type": "code",
   "execution_count": null,
   "metadata": {},
   "outputs": [],
   "source": []
  }
 ],
 "metadata": {
  "kernelspec": {
   "display_name": "Python 3",
   "language": "python",
   "name": "python3"
  },
  "language_info": {
   "codemirror_mode": {
    "name": "ipython",
    "version": 3
   },
   "file_extension": ".py",
   "mimetype": "text/x-python",
   "name": "python",
   "nbconvert_exporter": "python",
   "pygments_lexer": "ipython3",
   "version": "3.8.5-final"
  }
 },
 "nbformat": 4,
 "nbformat_minor": 2
}